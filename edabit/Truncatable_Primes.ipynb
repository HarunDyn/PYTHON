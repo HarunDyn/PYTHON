{
  "nbformat": 4,
  "nbformat_minor": 0,
  "metadata": {
    "colab": {
      "name": "Truncatable Primes.ipynb",
      "provenance": [],
      "collapsed_sections": []
    },
    "kernelspec": {
      "name": "python3",
      "display_name": "Python 3"
    },
    "language_info": {
      "name": "python"
    }
  },
  "cells": [
    {
      "cell_type": "markdown",
      "metadata": {
        "id": "_nRiV2HEzrli"
      },
      "source": [
        "A left-truncatable prime is a prime number that contains no 0 digits and, when the first digit is successively removed, the result is always prime.\n",
        "\n",
        "A right-truncatable prime is a prime number that contains no 0 digits and, when the last digit is successively removed, the result is always prime.\n",
        "\n",
        "Create a function that takes an integer as an argument and:\n",
        "\n",
        "If the integer is only a left-truncatable prime, return \"left\".\n",
        "If the integer is only a right-truncatable prime, return \"right\".\n",
        "If the integer is both, return \"both\".\n",
        "Otherwise, return False.\n",
        "Examples\n",
        "truncatable(9137) ➞ \"left\"\n",
        "# Because 9137, 137, 37 and 7 are all prime.\n",
        "\n",
        "truncatable(5939) ➞ \"right\"\n",
        "# Because 5939, 593, 59 and 5 are all prime.\n",
        "\n",
        "truncatable(317) ➞ \"both\"\n",
        "# Because 317, 17 and 7 are all prime and 317, 31 and 3 are all prime.\n",
        "\n",
        "truncatable(5) ➞ \"both\"\n",
        "# The trivial case of single-digit primes is treated as truncatable from both directions.\n",
        "\n",
        "truncatable(139) ➞ False\n",
        "# 1 and 9 are non-prime, so 139 cannot be truncatable from either direction.\n",
        "\n",
        "truncatable(103) ➞ False\n",
        "# Because it contains a 0 digit (even though 103 and 3 are primes).\n",
        "Notes\n",
        "The input integers will not exceed 10^6."
      ]
    },
    {
      "cell_type": "code",
      "metadata": {
        "id": "CYK1kUveusvR"
      },
      "source": [
        "def truncatable(number):\n",
        "  number = str(number)\n",
        "  all_prime_right = True\n",
        "  all_prime_left = True\n",
        "  num_right =[]\n",
        "  num_left = []\n",
        "  for i in range(len(number)):\n",
        "    num_right.append(number[:i+1])\n",
        "  for i in range(len(number)):\n",
        "    num_left.append(number[i:])\n",
        "  \n",
        "  for r in num_right:\n",
        "    for rr in range(2,int(r)) :\n",
        "      if int(r)%rr == 0 :\n",
        "        all_prime_right = False\n",
        "        break\n",
        "      elif \"1\" in num_right:\n",
        "        all_prime_right = False\n",
        "        break\n",
        "  for l in num_left:\n",
        "    for ll in range(2,int(l)):\n",
        "      if int(l)%ll == 0 :\n",
        "        all_prime_left = False\n",
        "        break\n",
        "      elif \"1\" in num_left:\n",
        "        all_prime_left = False\n",
        "        break\n",
        "  if \"0\" in number:\n",
        "    all_prime_right = False\n",
        "    all_prime_left = False\n",
        "\n",
        "  if all_prime_right and all_prime_left:\n",
        "    print(\"both\")\n",
        "  elif all_prime_left:\n",
        "    print(\"left\")\n",
        "  elif all_prime_right:\n",
        "    print(\"right\")\n",
        "  else:\n",
        "    print(False)\n",
        "  \n",
        "\n",
        "truncatable(9137)"
      ],
      "execution_count": null,
      "outputs": []
    }
  ]
}