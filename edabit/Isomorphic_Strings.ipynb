{
  "nbformat": 4,
  "nbformat_minor": 0,
  "metadata": {
    "colab": {
      "name": "Isomorphic Strings.ipynb",
      "provenance": [],
      "collapsed_sections": []
    },
    "kernelspec": {
      "name": "python3",
      "display_name": "Python 3"
    },
    "language_info": {
      "name": "python"
    }
  },
  "cells": [
    {
      "cell_type": "markdown",
      "metadata": {
        "id": "X54I9MMuFg3X"
      },
      "source": [
        "Given two strings s and t, create a function to determine if they are isomorphic. Two strings are isomorphic if the characters in s can be replaced to get t. All occurrences of a character must be replaced with another character while preserving the order of characters. No two characters may map to the same character but a character may map to itself.\n",
        "\n",
        "Examples\n",
        "is_isomorphic(\"egg\", \"add\") ➞ True\n",
        "\n",
        "is_isomorphic(\"aba\", \"baa\") ➞ False\n",
        "\n",
        "is_isomorphic(\"paper\", \"title\") ➞ True\n",
        "Notes\n",
        "N/A"
      ]
    },
    {
      "cell_type": "code",
      "metadata": {
        "id": "275iu-sMFbgc"
      },
      "source": [
        "def is_isomorphic(string1, string2):\n",
        "  dct = {}\n",
        "  for i in range(len(string1)):\n",
        "    if len(string1) != len(string2) :\n",
        "      return False\n",
        "      break\n",
        "    elif string1[i] in dct.keys():\n",
        "      if dct[string1[i]] == string2[i]:\n",
        "        continue\n",
        "      else:\n",
        "        return False\n",
        "    else:\n",
        "      if string2[i] in dct.values():\n",
        "        return False\n",
        "      else:\n",
        "        dct[string1[i]] = string2[i]\n",
        "\n",
        "  return True\n",
        "\n",
        "is_isomorphic(\"eggaa\", \"addss\")"
      ],
      "execution_count": null,
      "outputs": []
    }
  ]
}