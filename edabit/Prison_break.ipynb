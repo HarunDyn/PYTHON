{
  "nbformat": 4,
  "nbformat_minor": 0,
  "metadata": {
    "colab": {
      "name": "Prison_break.ipynb",
      "provenance": [],
      "collapsed_sections": []
    },
    "kernelspec": {
      "name": "python3",
      "display_name": "Python 3"
    },
    "language_info": {
      "name": "python"
    }
  },
  "cells": [
    {
      "cell_type": "markdown",
      "metadata": {
        "id": "mEYzWfO_jnZJ"
      },
      "source": [
        "Prison Break\n",
        "A prison can be represented as a list of cells. Each cell contains exactly one prisoner. A 1 represents an unlocked cell and a 0 represents a locked cell.\n",
        "\n",
        "[1, 1, 0, 0, 0, 1, 0]\n",
        "Starting inside the leftmost cell, you are tasked with seeing how many prisoners you can set free, with a catch. You are the prisoner in the first cell. If the first cell is locked, you cannot free anyone. Each time you free a prisoner, the locked cells become unlocked, and the unlocked cells become locked again.\n",
        "\n",
        "So, if we use the example above:\n",
        "\n",
        "[1, 1, 0, 0, 0, 1, 0]\n",
        "# You free the prisoner in the 1st cell.\n",
        "\n",
        "[0, 0, 1, 1, 1, 0, 1] \n",
        "# You free the prisoner in the 3rd cell (2nd one locked).\n",
        "\n",
        "[1, 1, 0, 0, 0, 1, 0]\n",
        "# You free the prisoner in the 6th cell (3rd, 4th and 5th locked).\n",
        "\n",
        "[0, 0, 1, 1, 1, 0, 1]\n",
        "# You free the prisoner in the 7th cell - and you are done!\n",
        "Here, we have set free 4 prisoners in total.\n",
        "\n",
        "Create a function that, given this unique prison arrangement, returns the number of freed prisoners.\n",
        "\n",
        "Examples\n",
        "freed_prisoners([1, 1, 0, 0, 0, 1, 0]) ➞ 4\n",
        "\n",
        "freed_prisoners([1, 1, 1]) ➞ 1\n",
        "\n",
        "freed_prisoners([0, 0, 0]) ➞ 0\n",
        "\n",
        "freed_prisoners([0, 1, 1, 1]) ➞ 0\n",
        "Notes\n",
        "You are the prisoner in the first cell. You must be freed to free anyone else.\n",
        "You must free a prisoner in order for the locks to switch. So in the second example where the input is [1, 1, 1] after you release the first prisoner, the locks change to [0, 0, 0]. Since all cells are locked, you can release no more prisoners.\n",
        "You always start within the leftmost element in the list (the first prison cell). If all the prison cells to your right are zeroes, you cannot free any more prisoners."
      ]
    },
    {
      "cell_type": "code",
      "metadata": {
        "id": "Xruuz_YzZ3XM"
      },
      "source": [
        "def prison_break(lst):\n",
        "  total_free_man = 0\n",
        "  if lst[0] != 0:\n",
        "    k = 0\n",
        "    while k < len(lst):\n",
        "      if lst[k] == 1:\n",
        "        total_free_man += 1\n",
        "        for n, i in enumerate(lst):\n",
        "          if i == 1:\n",
        "            lst[n] = 0\n",
        "          else :\n",
        "            lst[n] = 1\n",
        "      k += 1\n",
        "\n",
        "  return total_free_man\n",
        "\n",
        "prison_break([0, 1, 1, 1])\n"
      ],
      "execution_count": null,
      "outputs": []
    }
  ]
}