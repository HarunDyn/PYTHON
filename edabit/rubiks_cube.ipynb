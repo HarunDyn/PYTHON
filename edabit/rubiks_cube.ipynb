{
  "nbformat": 4,
  "nbformat_minor": 0,
  "metadata": {
    "colab": {
      "name": "rubiks_cube.ipynb",
      "provenance": [],
      "collapsed_sections": []
    },
    "kernelspec": {
      "name": "python3",
      "display_name": "Python 3"
    },
    "language_info": {
      "name": "python"
    }
  },
  "cells": [
    {
      "cell_type": "markdown",
      "metadata": {
        "id": "8bob8QJMKxtN"
      },
      "source": [
        "Check Rubik's Cubes\n",
        "Matt wants to make Rubik Cubes. These Rubiks should be in the shape of a full cube, and it shouldn't have any missing parts.\n",
        "\n",
        "This is a full cube:\n",
        "\n",
        "Full\n",
        "\n",
        "This is not a full cube:\n",
        "\n",
        "Full\n",
        "\n",
        "And he asks his friend to draw some patterns. When his friend gives him these Rubik's Cube patterns, he realizes that some of them are wrong or missing. Help him identify them!\n",
        "\n",
        "The small cubes that make up the Rubik's Cube will be denoted by \"O\".\n",
        "\n",
        "Return \"Full\" if the Rubik Cube is full and no part is missing.\n",
        "Return \"Non-Full\" if the Rubik Cube is non-full and no part is missing.\n",
        "Return \"Missing {number of missing parts}\" if the Rubik Cube has missing parts.\n",
        "Examples\n",
        "identify(\n",
        "  [\"O\", \"O\", \"O\"],\n",
        "  [\"O\", \"O\", \"O\"],\n",
        "  [\"O\", \"O\", \"O\"]\n",
        ") ➞ \"Full\"\n",
        "\n",
        "# This is 3x3 full Rubik's Cube.\n",
        "# So we should return \"Full\"\n",
        "identify(\n",
        "  [\"O\", \"O\", \"O\"],\n",
        "  [\"O\", \"O\", \"O\"]\n",
        ") ➞ \"Non-Full\"\n",
        "\n",
        "# This is a 2x3 Rubik's Cube.\n",
        "# It's not full, so we should return \"Non-Full\".\n",
        "identify(\n",
        "  [\"O\", \"O\"],\n",
        "  [\"O\", \"O\", \"O\"],\n",
        "  [\"O\", \"O\", \"O\"]\n",
        ") ➞ \"Missing 1\"\n",
        "\n",
        "# This is almost a 3x3 Rubik's Cube with one missing part.\n",
        "# We should return \"Missing 1\".\n",
        "Notes\n",
        "Every cubic (small part of a Rubik's Cube) will be denoted by \"O\". There won't be any other type.\n",
        "Don't forget to return by paying attention to capital letters."
      ]
    },
    {
      "cell_type": "code",
      "metadata": {
        "id": "VRlZJ0gfBAKv"
      },
      "source": [
        "def identify(*cube):\n",
        "\ttotals_in_max =[]\n",
        "\tmissing_list =[]\n",
        "\tsum_miss = 0\n",
        "\tfor i in cube:\n",
        "\t\ttotals_in = 0\n",
        "\t\tfor ii in i:\n",
        "\t\t\ttotals_in += 1\n",
        "\t\ttotals_in_max.append(totals_in)\n",
        "\tfor k in totals_in_max:\n",
        "\t\tif k != max(totals_in_max):\n",
        "\t\t\tmissing_list.append(k)\n",
        "\t\t\tsum_miss += k\n",
        "\n",
        "\ttotals_res = totals_in_max.count(max(totals_in_max))\n",
        "\tmissing_parts = len(missing_list)*max(totals_in_max) - sum_miss\n",
        "  \n",
        "\tif missing_parts > 0:\n",
        "\t\treturn \"Missing {}\".format(missing_parts)\n",
        "\n",
        "\telif totals_res == max(totals_in_max):\n",
        "\t\treturn \"Full\"\n",
        "\n",
        "\telse:\n",
        "\t\treturn \"Non-Full\"\n",
        "\n",
        "identify([\"O\", \"O\"],\n",
        "\t[\"O\", \"O\",\"O\"])"
      ],
      "execution_count": null,
      "outputs": []
    }
  ]
}