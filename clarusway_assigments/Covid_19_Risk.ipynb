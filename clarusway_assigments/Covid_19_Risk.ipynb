{
  "nbformat": 4,
  "nbformat_minor": 0,
  "metadata": {
    "colab": {
      "name": "Covid-19 Risk.ipynb",
      "provenance": [],
      "collapsed_sections": []
    },
    "kernelspec": {
      "name": "python3",
      "display_name": "Python 3"
    },
    "language_info": {
      "name": "python"
    }
  },
  "cells": [
    {
      "cell_type": "markdown",
      "metadata": {
        "id": "ar_tRrvJT07G"
      },
      "source": [
        "Problem :\n",
        "\n",
        "Task : Estimating the **risk of death from coronavirus**. Write a program that;\n",
        "\n",
        "Takes \"Yes\" or \"No\" from the user as an answer to the following questions :\n",
        "\n",
        "Are you a **cigarette** addict older than **75** years old? Variable → age\n",
        "\n",
        "Do you have a **severe** chronic disease? Variable → chronic\n",
        "\n",
        "Is your **immune** system **too weak**? Variable → immune\n",
        "\n",
        "Set a logical algorithm using boolean logic operators (and/or) and use if-statements with the given variables in order to print out us a message : **\"You are in risky group\"(if True ) or \"You are not in risky group\" (if False).**\n",
        "age =  # can be assigned only True/False\n",
        "chronic =  # can be assigned only True/False\n",
        "immune =  # can be assigned only True/False\n",
        "risk = ?"
      ]
    },
    {
      "cell_type": "code",
      "metadata": {
        "id": "cn7U-TjlWOWG"
      },
      "source": [
        "age = input(\"Are you a cigarette addict older than 75 years old? Yes or No : \").strip().title()\n",
        "chronic = input(\"Do you have a severe chronic disease? Yes or No : \").strip().title()\n",
        "immune = input(\"Is your immune system too weak? Yes or No : \").strip().title()\n",
        "if age == \"Yes\" and chronic == \"Yes\" and immune == \"Yes\":\n",
        "  print(\"You are in risky group\")\n",
        "else:\n",
        "  print(\"You are not in risky group\")"
      ],
      "execution_count": null,
      "outputs": []
    }
  ]
}