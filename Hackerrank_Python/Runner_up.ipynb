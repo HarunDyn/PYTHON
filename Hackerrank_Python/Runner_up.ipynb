{
  "nbformat": 4,
  "nbformat_minor": 0,
  "metadata": {
    "colab": {
      "name": "Runner_up.ipynb",
      "provenance": [],
      "collapsed_sections": []
    },
    "kernelspec": {
      "name": "python3",
      "display_name": "Python 3"
    },
    "language_info": {
      "name": "python"
    }
  },
  "cells": [
    {
      "cell_type": "markdown",
      "metadata": {
        "id": "okvd5j9YBm4m"
      },
      "source": [
        "Given the participants' score sheet for your University Sports Day, you are required to find the runner-up score. You are given  scores. Store them in a list and find the score of the runner-up.\n",
        "\n",
        "Input Format\n",
        "\n",
        "The first line contains . The second line contains an array   of  integers each separated by a space.\n",
        "\n",
        "Constraints\n",
        "\n",
        "Output Format\n",
        "\n",
        "Print the runner-up score.\n",
        "\n",
        "Sample Input 0\n",
        "\n",
        "5\n",
        "2 3 6 6 5\n",
        "Sample Output 0\n",
        "\n",
        "5\n",
        "Explanation 0\n",
        "\n",
        "Given list is . The maximum score is , second maximum is . Hence, we print  as the runner-up score."
      ]
    },
    {
      "cell_type": "code",
      "metadata": {
        "id": "pgtaoPK0-Av0"
      },
      "source": [
        "if __name__ == '__main__':\n",
        "    i = int(input())\n",
        "    liste_1 = list(map(int,input().strip().split()))[:i]\n",
        "    z = max(liste_1)\n",
        "    while max(liste_1) == z:\n",
        "        liste_1.remove(max(liste_1))\n",
        "\n",
        "    print(max(liste_1))\n",
        "        \n",
        "    \n"
      ],
      "execution_count": null,
      "outputs": []
    }
  ]
}