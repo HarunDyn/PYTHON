{
  "nbformat": 4,
  "nbformat_minor": 0,
  "metadata": {
    "colab": {
      "name": "Finding the percentage.ipynb",
      "provenance": [],
      "collapsed_sections": []
    },
    "kernelspec": {
      "name": "python3",
      "display_name": "Python 3"
    },
    "language_info": {
      "name": "python"
    }
  },
  "cells": [
    {
      "cell_type": "markdown",
      "metadata": {
        "id": "BdXSCnmduuzE"
      },
      "source": [
        "\n",
        "The provided code stub will read in a dictionary containing key/value pairs of name:[marks] for a list of students. Print the average of the marks array for the student name provided, showing 2 places after the decimal.\n",
        "\n",
        "Example\n",
        "\n",
        "\n",
        "\n",
        "\n",
        "The query_name is 'beta'. beta's average score is .\n",
        "\n",
        "Input Format\n",
        "\n",
        "The first line contains the integer , the number of students' records. The next  lines contain the names and marks obtained by a student, each value separated by a space. The final line contains query_name, the name of a student to query.\n",
        "\n",
        "Constraints\n",
        "\n",
        "Output Format\n",
        "\n",
        "Print one line: The average of the marks obtained by the particular student correct to 2 decimal places.\n",
        "\n",
        "Sample Input 0\n",
        "\n",
        "3\n",
        "Krishna 67 68 69\n",
        "Arjun 70 98 63\n",
        "Malika 52 56 60\n",
        "Malika\n",
        "Sample Output 0\n",
        "\n",
        "56.00\n",
        "Explanation 0\n",
        "\n",
        "Marks for Malika are  whose average is \n",
        "\n",
        "Sample Input 1\n",
        "\n",
        "2\n",
        "Harsh 25 26.5 28\n",
        "Anurag 26 28 30\n",
        "Harsh\n",
        "Sample Output 1\n",
        "\n",
        "26.50\n",
        "\n"
      ]
    },
    {
      "cell_type": "code",
      "metadata": {
        "id": "CYK1kUveusvR"
      },
      "source": [
        "if __name__ == '__main__':\n",
        "    n = int(input())\n",
        "    student_marks = {}\n",
        "    for _ in range(n):\n",
        "        name, *line = input().split()\n",
        "        scores = list(map(float, line))\n",
        "        student_marks[name] = scores\n",
        "    query_name = input()\n",
        "    total = 0\n",
        "    for i in student_marks[query_name]:\n",
        "        total += i\n",
        "    \n",
        "    res = total/len(student_marks[query_name])\n",
        "    formatted_float = \"{0:.2f}\".format(res)\n",
        "    print(formatted_float)"
      ],
      "execution_count": null,
      "outputs": []
    }
  ]
}