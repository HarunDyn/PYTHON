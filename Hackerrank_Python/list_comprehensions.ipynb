{
  "nbformat": 4,
  "nbformat_minor": 0,
  "metadata": {
    "colab": {
      "name": "list_comprehensions.ipynb",
      "provenance": [],
      "collapsed_sections": []
    },
    "kernelspec": {
      "name": "python3",
      "display_name": "Python 3"
    },
    "language_info": {
      "name": "python"
    }
  },
  "cells": [
    {
      "cell_type": "markdown",
      "metadata": {
        "id": "okvd5j9YBm4m"
      },
      "source": [
        "Let's learn about list comprehensions! You are given three integers  and  representing the dimensions of a cuboid along with an integer . Print a list of all possible coordinates given by  on a 3D grid where the sum of  is not equal to . Here, . Please use list comprehensions rather than multiple loops, as a learning exercise.\n",
        "\n",
        "Example\n",
        "\n",
        "\n",
        "\n",
        "\n",
        "All permutations of  are:\n",
        ".\n",
        "\n",
        "Print an array of the elements that do not sum to .\n",
        "\n",
        "\n",
        "Input Format\n",
        "\n",
        "Four integers  and , each on a separate line.\n",
        "\n",
        "Constraints\n",
        "\n",
        "Print the list in lexicographic increasing order.\n",
        "\n",
        "Sample Input 0\n",
        "\n",
        "1\n",
        "1\n",
        "1\n",
        "2\n",
        "Sample Output 0\n",
        "\n",
        "[[0, 0, 0], [0, 0, 1], [0, 1, 0], [1, 0, 0], [1, 1, 1]]\n",
        "Explanation 0\n",
        "\n",
        "Each variable  and  will have values of  or . All permutations of lists in the form .\n",
        "Remove all arrays that sum to  to leave only the valid permutations.\n",
        "\n",
        "Sample Input 1\n",
        "\n",
        "2\n",
        "2\n",
        "2\n",
        "2\n",
        "Sample Output 1\n",
        "\n",
        "[[0, 0, 0], [0, 0, 1], [0, 1, 0], [0, 1, 2], [0, 2, 1], [0, 2, 2], [1, 0, 0], [1, 0, 2], [1, 1, 1], [1, 1, 2], [1, 2, 0], [1, 2, 1], [1, 2, 2], [2, 0, 1], [2, 0, 2], [2, 1, 0], [2, 1, 1], [2, 1, 2], [2, 2, 0], [2, 2, 1], [2, 2, 2]]"
      ]
    },
    {
      "cell_type": "code",
      "metadata": {
        "id": "pgtaoPK0-Av0"
      },
      "source": [
        "if __name__ == '__main__':\n",
        "    x = int(input())\n",
        "    y = int(input())\n",
        "    z = int(input())\n",
        "    n = int(input())\n",
        "    print ([[a,b,c] for a in range(0,x+1) for b in range(0,y+1) for c in range(0,z+1) if a + b + c != n ])\n",
        "    \n"
      ],
      "execution_count": null,
      "outputs": []
    }
  ]
}