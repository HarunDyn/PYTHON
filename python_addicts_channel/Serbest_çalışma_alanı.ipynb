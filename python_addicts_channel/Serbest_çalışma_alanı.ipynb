{
  "nbformat": 4,
  "nbformat_minor": 0,
  "metadata": {
    "colab": {
      "name": "Serbest çalışma alanı.ipynb",
      "provenance": []
    },
    "kernelspec": {
      "name": "python3",
      "display_name": "Python 3"
    },
    "language_info": {
      "name": "python"
    }
  },
  "cells": [
    {
      "cell_type": "code",
      "metadata": {
        "colab": {
          "base_uri": "https://localhost:8080/"
        },
        "id": "fdCJ2Ap1h9bO",
        "outputId": "5059ca7d-115b-4cd7-d46d-a7c3d972e4f8"
      },
      "source": [
        "print(2**2**3)"
      ],
      "execution_count": null,
      "outputs": [
        {
          "output_type": "stream",
          "text": [
            "256\n"
          ],
          "name": "stdout"
        }
      ]
    },
    {
      "cell_type": "code",
      "metadata": {
        "id": "VQdyFqW-iLSW",
        "colab": {
          "base_uri": "https://localhost:8080/"
        },
        "outputId": "86d5eb2b-22e0-4866-9477-ff846c5bfacb"
      },
      "source": [
        "number1 = int(input())\n",
        "number2 = int(input())\n",
        "product = number1*number2\n",
        "solution = (product < 1000) and (number1*number2) or (product>= 1000) and (number1+number2)\n",
        "print(solution)"
      ],
      "execution_count": null,
      "outputs": [
        {
          "output_type": "stream",
          "text": [
            "40\n",
            "40\n",
            "80\n"
          ],
          "name": "stdout"
        }
      ]
    },
    {
      "cell_type": "code",
      "metadata": {
        "colab": {
          "base_uri": "https://localhost:8080/"
        },
        "id": "zS5TAZZNFHRb",
        "outputId": "b2fd75b3-7905-4e6c-9922-876396747a9e"
      },
      "source": [
        "current_number = 1\n",
        "while current_number<10:\n",
        "  print(\"current number: \",current_number ,\"previous number: \", current_number-1 , \"Sum_numbers: \", current_number*2-1)\n",
        "  current_number += 1\n",
        "\n"
      ],
      "execution_count": null,
      "outputs": [
        {
          "output_type": "stream",
          "text": [
            "current number:  1 previous number:  0 Sum_numbers:  1\n",
            "current number:  2 previous number:  1 Sum_numbers:  3\n",
            "current number:  3 previous number:  2 Sum_numbers:  5\n",
            "current number:  4 previous number:  3 Sum_numbers:  7\n",
            "current number:  5 previous number:  4 Sum_numbers:  9\n",
            "current number:  6 previous number:  5 Sum_numbers:  11\n",
            "current number:  7 previous number:  6 Sum_numbers:  13\n",
            "current number:  8 previous number:  7 Sum_numbers:  15\n",
            "current number:  9 previous number:  8 Sum_numbers:  17\n"
          ],
          "name": "stdout"
        }
      ]
    },
    {
      "cell_type": "code",
      "metadata": {
        "id": "p91k-yohKsVh",
        "colab": {
          "base_uri": "https://localhost:8080/"
        },
        "outputId": "3fd147a7-1139-40f0-a62a-48b2d7a1f001"
      },
      "source": [
        "i = 3\n",
        "while i>=0:\n",
        "   print(i)\n",
        "   i = i - 1"
      ],
      "execution_count": null,
      "outputs": [
        {
          "output_type": "stream",
          "text": [
            "3\n",
            "2\n",
            "1\n",
            "0\n"
          ],
          "name": "stdout"
        }
      ]
    },
    {
      "cell_type": "code",
      "metadata": {
        "colab": {
          "base_uri": "https://localhost:8080/"
        },
        "id": "cO5hpQafx23J",
        "outputId": "729ba431-f102-426d-db10-3beb2fb6b5d6"
      },
      "source": [
        "string = \"Merhaba MDünyamM\"\n",
        "count = 0\n",
        "for s in string:\n",
        "  if s==\"M\":\n",
        "    count += 1\n",
        "print(count)"
      ],
      "execution_count": null,
      "outputs": [
        {
          "output_type": "stream",
          "text": [
            "3\n"
          ],
          "name": "stdout"
        }
      ]
    },
    {
      "cell_type": "code",
      "metadata": {
        "colab": {
          "base_uri": "https://localhost:8080/",
          "height": 265
        },
        "id": "KosUoK3e_wFW",
        "outputId": "9ffd6548-d896-4237-a921-f5960e6dbd60"
      },
      "source": [
        "n = int(input())\n",
        "\n",
        "for x in range(1, n):\n",
        "    if x % 2 == 0:\n",
        "      contiune\n",
        "    else:\n",
        "        if x % 3 == 0 and x % 5 == 0:\n",
        "            print(\"SoloLearn\")\n",
        "        elif x % 3 == 0:\n",
        "            print(\"Solo\")\n",
        "        elif x % 5 == 0:\n",
        "            print(\"Learn\")\n",
        "        else:\n",
        "            print(x)"
      ],
      "execution_count": null,
      "outputs": [
        {
          "output_type": "stream",
          "text": [
            "10\n",
            "1\n"
          ],
          "name": "stdout"
        },
        {
          "output_type": "error",
          "ename": "NameError",
          "evalue": "ignored",
          "traceback": [
            "\u001b[0;31m---------------------------------------------------------------------------\u001b[0m",
            "\u001b[0;31mNameError\u001b[0m                                 Traceback (most recent call last)",
            "\u001b[0;32m<ipython-input-2-092fe4a0fa56>\u001b[0m in \u001b[0;36m<module>\u001b[0;34m()\u001b[0m\n\u001b[1;32m      3\u001b[0m \u001b[0;32mfor\u001b[0m \u001b[0mx\u001b[0m \u001b[0;32min\u001b[0m \u001b[0mrange\u001b[0m\u001b[0;34m(\u001b[0m\u001b[0;36m1\u001b[0m\u001b[0;34m,\u001b[0m \u001b[0mn\u001b[0m\u001b[0;34m)\u001b[0m\u001b[0;34m:\u001b[0m\u001b[0;34m\u001b[0m\u001b[0;34m\u001b[0m\u001b[0m\n\u001b[1;32m      4\u001b[0m     \u001b[0;32mif\u001b[0m \u001b[0mx\u001b[0m \u001b[0;34m%\u001b[0m \u001b[0;36m2\u001b[0m \u001b[0;34m==\u001b[0m \u001b[0;36m0\u001b[0m\u001b[0;34m:\u001b[0m\u001b[0;34m\u001b[0m\u001b[0;34m\u001b[0m\u001b[0m\n\u001b[0;32m----> 5\u001b[0;31m       \u001b[0mcontiune\u001b[0m\u001b[0;34m\u001b[0m\u001b[0;34m\u001b[0m\u001b[0m\n\u001b[0m\u001b[1;32m      6\u001b[0m     \u001b[0;32melse\u001b[0m\u001b[0;34m:\u001b[0m\u001b[0;34m\u001b[0m\u001b[0;34m\u001b[0m\u001b[0m\n\u001b[1;32m      7\u001b[0m         \u001b[0;32mif\u001b[0m \u001b[0mx\u001b[0m \u001b[0;34m%\u001b[0m \u001b[0;36m3\u001b[0m \u001b[0;34m==\u001b[0m \u001b[0;36m0\u001b[0m \u001b[0;32mand\u001b[0m \u001b[0mx\u001b[0m \u001b[0;34m%\u001b[0m \u001b[0;36m5\u001b[0m \u001b[0;34m==\u001b[0m \u001b[0;36m0\u001b[0m\u001b[0;34m:\u001b[0m\u001b[0;34m\u001b[0m\u001b[0;34m\u001b[0m\u001b[0m\n",
            "\u001b[0;31mNameError\u001b[0m: name 'contiune' is not defined"
          ]
        }
      ]
    },
    {
      "cell_type": "code",
      "metadata": {
        "id": "b7AZVi3fEFON",
        "colab": {
          "base_uri": "https://localhost:8080/"
        },
        "outputId": "c50bf044-3a8e-4f84-8f57-7aabff2565e7"
      },
      "source": [
        "audience_group = 'kid', 'teen', 'adult'\n",
        "print(type(audience_group))"
      ],
      "execution_count": null,
      "outputs": [
        {
          "output_type": "stream",
          "text": [
            "<class 'tuple'>\n"
          ],
          "name": "stdout"
        }
      ]
    },
    {
      "cell_type": "code",
      "metadata": {
        "colab": {
          "base_uri": "https://localhost:8080/"
        },
        "id": "bNoUzteKWi0e",
        "outputId": "8e67c429-553a-4377-d38d-c179ee8b325f"
      },
      "source": [
        "audience_group = \"kid\", \"teen\", \"adult\"\n",
        "audience = \"adult\"\n",
        "if audience in audience_group:\n",
        "  if audience == \"kid\":\n",
        "    print(\"it is free\")\n",
        "  elif audience == \"teen\":\n",
        "    print(\"indirimli\")\n",
        "  else:\n",
        "    print(\"tam bilet\")\n",
        "else:\n",
        "  print(\"git eve otur\")\n"
      ],
      "execution_count": null,
      "outputs": [
        {
          "output_type": "stream",
          "text": [
            "tam bilet\n"
          ],
          "name": "stdout"
        }
      ]
    },
    {
      "cell_type": "code",
      "metadata": {
        "colab": {
          "base_uri": "https://localhost:8080/"
        },
        "id": "dxQ9ARwpaqOa",
        "outputId": "b8dc8bdc-4068-4795-f7cd-ae7446d903e1"
      },
      "source": [
        "puan = int(input(\"Alınan puanı belirtilen input alanına giriniz..! \"))\n",
        "if puan > 90 :\n",
        "  if puan >= 95 :\n",
        "    print(\"AA+\")\n",
        "  else:\n",
        "    print(\"AA\")\n",
        "elif puan > 80 :\n",
        "  if puan >= 85 :\n",
        "    print(\"BB+\")\n",
        "  else:\n",
        "      print(\"BB\")\n",
        "elif puan > 70:\n",
        "  if puan >= 75 :\n",
        "    print(\"BB+\")\n",
        "  else:\n",
        "      print(\"BB\")\n",
        "else:\n",
        "  print(\"KAldınız\")"
      ],
      "execution_count": null,
      "outputs": [
        {
          "output_type": "stream",
          "text": [
            "Alınan puanı belirtilen input alanına giriniz..! 69\n",
            "KAldınız\n"
          ],
          "name": "stdout"
        }
      ]
    },
    {
      "cell_type": "code",
      "metadata": {
        "colab": {
          "base_uri": "https://localhost:8080/"
        },
        "id": "K1YA1gKW4Tgb",
        "outputId": "447917c4-e75b-465d-8034-0e49f74d1263"
      },
      "source": [
        "my_list=[\"a\", \"b\", \"c\", \"d\", \"e\"]\n",
        "\n",
        "i = 0\n",
        "\n",
        "while i < len(my_list):\n",
        "  print(\"square of {} is: {} \".format(i, i**2))\n",
        "  i += 1"
      ],
      "execution_count": null,
      "outputs": [
        {
          "output_type": "stream",
          "text": [
            "square of 0 is: 0 \n",
            "square of 1 is: 1 \n",
            "square of 2 is: 4 \n",
            "square of 3 is: 9 \n",
            "square of 4 is: 16 \n"
          ],
          "name": "stdout"
        }
      ]
    },
    {
      "cell_type": "code",
      "metadata": {
        "colab": {
          "base_uri": "https://localhost:8080/"
        },
        "id": "yzsPGbaUFRtB",
        "outputId": "bda38d5d-f6c0-4e1d-e7c0-b1eadb55d67c"
      },
      "source": [
        "answer = 44\n",
        "\n",
        "question = 'What number am I thinking of?  '\n",
        "print (\"Let's play the guessing game!\")\n",
        "\n",
        "while True:\n",
        "    guess = int(input(question))\n",
        "\n",
        "    if guess < answer:\n",
        "        print('Little higher')\n",
        "    elif guess > answer:\n",
        "        print('Little lower')\n",
        "    else:  # guess == answer\n",
        "        print('Are you a MINDREADER!!!')\n",
        "        break"
      ],
      "execution_count": null,
      "outputs": [
        {
          "output_type": "stream",
          "text": [
            "Let's play the guessing game!\n",
            "What number am I thinking of?  33\n",
            "Little higher\n",
            "What number am I thinking of?  45\n",
            "Little lower\n",
            "What number am I thinking of?  8\n",
            "Little higher\n",
            "What number am I thinking of?  44\n",
            "Are you a MINDREADER!!!\n"
          ],
          "name": "stdout"
        }
      ]
    },
    {
      "cell_type": "code",
      "metadata": {
        "colab": {
          "base_uri": "https://localhost:8080/"
        },
        "id": "3Y9GnrozHM1H",
        "outputId": "f19968e0-529a-4d22-ee51-fd52ff46f0be"
      },
      "source": [
        "for i in {'n1' : 'one', 'n2' : 'two'} : \n",
        "  print(i) "
      ],
      "execution_count": null,
      "outputs": [
        {
          "output_type": "stream",
          "text": [
            "n1\n",
            "n2\n"
          ],
          "name": "stdout"
        }
      ]
    },
    {
      "cell_type": "code",
      "metadata": {
        "colab": {
          "base_uri": "https://localhost:8080/"
        },
        "id": "Y_C8Eup_K_vF",
        "outputId": "4a06393d-a98d-4c8b-f400-2898d748ca40"
      },
      "source": [
        "\n",
        "for ç in range(1,11):\n",
        "  for i in range(1,11):\n",
        "    print('{}x{} = '.format(ç, i), ç*i, )\n",
        "print('\\n')\n"
      ],
      "execution_count": null,
      "outputs": [
        {
          "output_type": "stream",
          "text": [
            "1x1 =  1\n",
            "1x2 =  2\n",
            "1x3 =  3\n",
            "1x4 =  4\n",
            "1x5 =  5\n",
            "1x6 =  6\n",
            "1x7 =  7\n",
            "1x8 =  8\n",
            "1x9 =  9\n",
            "1x10 =  10\n",
            "2x1 =  2\n",
            "2x2 =  4\n",
            "2x3 =  6\n",
            "2x4 =  8\n",
            "2x5 =  10\n",
            "2x6 =  12\n",
            "2x7 =  14\n",
            "2x8 =  16\n",
            "2x9 =  18\n",
            "2x10 =  20\n",
            "3x1 =  3\n",
            "3x2 =  6\n",
            "3x3 =  9\n",
            "3x4 =  12\n",
            "3x5 =  15\n",
            "3x6 =  18\n",
            "3x7 =  21\n",
            "3x8 =  24\n",
            "3x9 =  27\n",
            "3x10 =  30\n",
            "4x1 =  4\n",
            "4x2 =  8\n",
            "4x3 =  12\n",
            "4x4 =  16\n",
            "4x5 =  20\n",
            "4x6 =  24\n",
            "4x7 =  28\n",
            "4x8 =  32\n",
            "4x9 =  36\n",
            "4x10 =  40\n",
            "5x1 =  5\n",
            "5x2 =  10\n",
            "5x3 =  15\n",
            "5x4 =  20\n",
            "5x5 =  25\n",
            "5x6 =  30\n",
            "5x7 =  35\n",
            "5x8 =  40\n",
            "5x9 =  45\n",
            "5x10 =  50\n",
            "6x1 =  6\n",
            "6x2 =  12\n",
            "6x3 =  18\n",
            "6x4 =  24\n",
            "6x5 =  30\n",
            "6x6 =  36\n",
            "6x7 =  42\n",
            "6x8 =  48\n",
            "6x9 =  54\n",
            "6x10 =  60\n",
            "7x1 =  7\n",
            "7x2 =  14\n",
            "7x3 =  21\n",
            "7x4 =  28\n",
            "7x5 =  35\n",
            "7x6 =  42\n",
            "7x7 =  49\n",
            "7x8 =  56\n",
            "7x9 =  63\n",
            "7x10 =  70\n",
            "8x1 =  8\n",
            "8x2 =  16\n",
            "8x3 =  24\n",
            "8x4 =  32\n",
            "8x5 =  40\n",
            "8x6 =  48\n",
            "8x7 =  56\n",
            "8x8 =  64\n",
            "8x9 =  72\n",
            "8x10 =  80\n",
            "9x1 =  9\n",
            "9x2 =  18\n",
            "9x3 =  27\n",
            "9x4 =  36\n",
            "9x5 =  45\n",
            "9x6 =  54\n",
            "9x7 =  63\n",
            "9x8 =  72\n",
            "9x9 =  81\n",
            "9x10 =  90\n",
            "10x1 =  10\n",
            "10x2 =  20\n",
            "10x3 =  30\n",
            "10x4 =  40\n",
            "10x5 =  50\n",
            "10x6 =  60\n",
            "10x7 =  70\n",
            "10x8 =  80\n",
            "10x9 =  90\n",
            "10x10 =  100\n",
            "\n",
            "\n"
          ],
          "name": "stdout"
        }
      ]
    },
    {
      "cell_type": "code",
      "metadata": {
        "colab": {
          "base_uri": "https://localhost:8080/",
          "height": 214
        },
        "id": "Va6SE6XDRRLF",
        "outputId": "f00f99cc-bcfe-46e1-d61e-1be4c7d927f3"
      },
      "source": [
        "number =int(input(\"Sayı girin lütfen: \"))\n",
        "\n",
        "for i in range(11):\n",
        "  print(\"%d*%d = \" %i %number)"
      ],
      "execution_count": null,
      "outputs": [
        {
          "output_type": "stream",
          "text": [
            "Sayı girin lütfen: 7\n"
          ],
          "name": "stdout"
        },
        {
          "output_type": "error",
          "ename": "TypeError",
          "evalue": "ignored",
          "traceback": [
            "\u001b[0;31m---------------------------------------------------------------------------\u001b[0m",
            "\u001b[0;31mTypeError\u001b[0m                                 Traceback (most recent call last)",
            "\u001b[0;32m<ipython-input-20-77dc9da417dd>\u001b[0m in \u001b[0;36m<module>\u001b[0;34m()\u001b[0m\n\u001b[1;32m      2\u001b[0m \u001b[0;34m\u001b[0m\u001b[0m\n\u001b[1;32m      3\u001b[0m \u001b[0;32mfor\u001b[0m \u001b[0mi\u001b[0m \u001b[0;32min\u001b[0m \u001b[0mrange\u001b[0m\u001b[0;34m(\u001b[0m\u001b[0;36m11\u001b[0m\u001b[0;34m)\u001b[0m\u001b[0;34m:\u001b[0m\u001b[0;34m\u001b[0m\u001b[0;34m\u001b[0m\u001b[0m\n\u001b[0;32m----> 4\u001b[0;31m   \u001b[0mprint\u001b[0m\u001b[0;34m(\u001b[0m\u001b[0;34m\"%d*%d = \"\u001b[0m \u001b[0;34m%\u001b[0m\u001b[0mi\u001b[0m \u001b[0;34m%\u001b[0m\u001b[0mnumber\u001b[0m\u001b[0;34m)\u001b[0m\u001b[0;34m\u001b[0m\u001b[0;34m\u001b[0m\u001b[0m\n\u001b[0m",
            "\u001b[0;31mTypeError\u001b[0m: not enough arguments for format string"
          ]
        }
      ]
    },
    {
      "cell_type": "code",
      "metadata": {
        "colab": {
          "base_uri": "https://localhost:8080/"
        },
        "id": "ISx8EfC9RtuF",
        "outputId": "fe97633f-1a76-4b9b-88cd-f56e12e4491c"
      },
      "source": [
        "saved_amount = int(input('Please enter your saved amount: '))\n",
        "ps4_price = 360\n",
        "if saved_amount <= ps4_price/2:\n",
        "    print(\"You must save more, keep saving!\")\n",
        "elif saved_amount > ps4_price:\n",
        "    print(\"Yippee! You can buy your PS4\")\n",
        "elif saved_amount > ps4_price/2:\n",
        "    print(\"You saved more than half, keep saving!\")\n"
      ],
      "execution_count": null,
      "outputs": [
        {
          "output_type": "stream",
          "text": [
            "Please enter your saved amount: 400\n",
            "Yippee! You can buy your PS4\n"
          ],
          "name": "stdout"
        }
      ]
    },
    {
      "cell_type": "code",
      "metadata": {
        "id": "dnDDoHq-ccAj",
        "colab": {
          "base_uri": "https://localhost:8080/",
          "height": 129
        },
        "outputId": "73b212ad-ef25-40c3-9684-88db61093669"
      },
      "source": [
        "txt = input(\"please enter a word :  \")\n",
        "def is_isogram(txt):\n",
        "  for set(txt) in list(txt):\n",
        "\t  print(True)\n",
        "  else:\n",
        "\t  print(False)\n",
        "  return\n",
        "  \n",
        "is_isogram(txt)"
      ],
      "execution_count": null,
      "outputs": [
        {
          "output_type": "error",
          "ename": "SyntaxError",
          "evalue": "ignored",
          "traceback": [
            "\u001b[0;36m  File \u001b[0;32m\"<ipython-input-37-09cb67b9345e>\"\u001b[0;36m, line \u001b[0;32m3\u001b[0m\n\u001b[0;31m    for set(txt) in list(txt):\u001b[0m\n\u001b[0m       ^\u001b[0m\n\u001b[0;31mSyntaxError\u001b[0m\u001b[0;31m:\u001b[0m can't assign to function call\n"
          ]
        }
      ]
    },
    {
      "cell_type": "code",
      "metadata": {
        "colab": {
          "base_uri": "https://localhost:8080/"
        },
        "id": "TcqWM5Ra4vfA",
        "outputId": "956b3fb2-459d-4049-87fc-eec3409541c9"
      },
      "source": [
        "txt = input(\"please enter a word :\")\n",
        "if set(txt) in list(txt):\n",
        "\t  print(True)\n",
        "else:\n",
        "    print(False)\n",
        "\n",
        "\t"
      ],
      "execution_count": null,
      "outputs": [
        {
          "output_type": "stream",
          "text": [
            "please enter a word :Hharun\n",
            "False\n"
          ],
          "name": "stdout"
        }
      ]
    },
    {
      "cell_type": "code",
      "metadata": {
        "colab": {
          "base_uri": "https://localhost:8080/"
        },
        "id": "Vdx-_Va06OPk",
        "outputId": "cbcbc73b-c9eb-4db3-d33b-b414847d234a"
      },
      "source": [
        "txt = input(\"please enter a word :\")\n",
        "print(set(txt))\n",
        "print(list(txt))"
      ],
      "execution_count": null,
      "outputs": [
        {
          "output_type": "stream",
          "text": [
            "please enter a word :Hharun\n",
            "{'H', 'a', 'h', 'n', 'u', 'r'}\n",
            "['H', 'h', 'a', 'r', 'u', 'n']\n"
          ],
          "name": "stdout"
        }
      ]
    },
    {
      "cell_type": "code",
      "metadata": {
        "id": "Md0NVQ2F9Amf",
        "colab": {
          "base_uri": "https://localhost:8080/"
        },
        "outputId": "af794b1c-4064-4603-e9f5-fcead4176f91"
      },
      "source": [
        "tuple1=tuple(range(1,11))\n",
        "tuple2=tuple(range(1,8))\n",
        "a,b,c=0,1,2\n",
        "while a<len(tuple1):\n",
        "     print( \"{} x {}={}\".format(tuple1[a],b,tuple1[a]*b))\n",
        "     a = a + 1\n",
        "a=0\n",
        "while a<len(tuple2):\n",
        "     print( \"{} x {}={}\".format(tuple1[a],c,tuple1[a]*c))\n",
        "     a = a + 1"
      ],
      "execution_count": null,
      "outputs": [
        {
          "output_type": "stream",
          "text": [
            "1 x 1=1\n",
            "2 x 1=2\n",
            "3 x 1=3\n",
            "4 x 1=4\n",
            "5 x 1=5\n",
            "6 x 1=6\n",
            "7 x 1=7\n",
            "8 x 1=8\n",
            "9 x 1=9\n",
            "10 x 1=10\n",
            "1 x 2=2\n",
            "2 x 2=4\n",
            "3 x 2=6\n",
            "4 x 2=8\n",
            "5 x 2=10\n",
            "6 x 2=12\n",
            "7 x 2=14\n"
          ],
          "name": "stdout"
        }
      ]
    },
    {
      "cell_type": "code",
      "metadata": {
        "id": "xvoMzU9b-o_B",
        "colab": {
          "base_uri": "https://localhost:8080/"
        },
        "outputId": "cfab47db-0b96-4b6e-e656-67ccd47867f6"
      },
      "source": [
        "count_dict = {}\n",
        "numbers = [1, 3, 7, 4, 3, 0, 3, 6, 3]\n",
        "\n",
        "for number in numbers:\n",
        "  count_dict.update({number : numbers.count(number)})\n",
        "\n",
        "most_fruquent_number = max(count_dict, key = lambda k: count_dict[k])\n",
        "\n",
        "print(f\"the most frequent number is  {most_fruquent_number} and it was {count_dict[most_fruquent_number]} times repeated\" )\n",
        "  \n",
        "\n",
        "\n",
        "\n",
        "\n",
        "\n"
      ],
      "execution_count": null,
      "outputs": [
        {
          "output_type": "stream",
          "text": [
            "the most frequent number is  3 and it was 4 times repeated\n"
          ],
          "name": "stdout"
        }
      ]
    },
    {
      "cell_type": "code",
      "metadata": {
        "colab": {
          "base_uri": "https://localhost:8080/"
        },
        "id": "qPptGr395WYg",
        "outputId": "8a3199c2-44ef-4ddd-a311-6c29dd9b0443"
      },
      "source": [
        "  print(\"the most frequent number is {} and it was {} times repeated\".format(number, numbers.count(number)))\n",
        "\n",
        "  \n"
      ],
      "execution_count": null,
      "outputs": [
        {
          "output_type": "stream",
          "text": [
            "the most frequent number is 3 and it was 4 times repeated\n"
          ],
          "name": "stdout"
        }
      ]
    },
    {
      "cell_type": "code",
      "metadata": {
        "colab": {
          "base_uri": "https://localhost:8080/"
        },
        "id": "zoTY-Aq_Ssol",
        "outputId": "ddabd2d0-2b3c-498c-cba0-e01a82ea687b"
      },
      "source": [
        "age = input(\"are you a cigarette addict older than 75 years old? Enter True or False\")\n",
        "chronic = input(\"Do you have a severe chronic disease? Enter True or False \")\n",
        "immune = input(\"Is your immune system too weak? Enter True or False \")\n",
        "age1 = (age == \"True\")\n",
        "chronic1= (chronic=='True')\n",
        "immune1 = (immune=='True')\n",
        "risk = (age1 or immune1 or chronic1) \n",
        "print(risk and 'there is a risk of death' or 'there is not a risk of death')"
      ],
      "execution_count": null,
      "outputs": [
        {
          "output_type": "stream",
          "text": [
            "are you a cigarette addict older than 75 years old? Enter True or FalseFalse\n",
            "Do you have a severe chronic disease? Enter True or False False\n",
            "Is your immune system too weak? Enter True or False True\n",
            "there is a risk of death\n"
          ],
          "name": "stdout"
        }
      ]
    },
    {
      "cell_type": "code",
      "metadata": {
        "colab": {
          "base_uri": "https://localhost:8080/"
        },
        "id": "XgtmROoRSyGh",
        "outputId": "8f650fdf-cc0e-448d-d53e-124e2908fd63"
      },
      "source": [
        "value = set(input(\"Please enter a word: \"))\n",
        "Left = {\"q\", \"w\", \"e\", \"r\", \"t\", \"a\", \"s\", \"d\", \"f\", \"g\", \"z\", \"x\", \"c\", \"v\", \"b\"}\n",
        "Right = {\"y\", \"u\", \"i\", \"o\", \"p\", \"h\", \"j\", \"k\", \"l\", \"n\", \"m\"}\n",
        "\n",
        "if value in Left^Right:\n",
        "  print(False)\n",
        "else: \n",
        "  print(True)\n",
        "\n",
        "print(value)\n",
        "print(Left^Right)\n",
        "\n",
        "\n",
        "\n",
        "\n",
        "\n"
      ],
      "execution_count": null,
      "outputs": [
        {
          "output_type": "stream",
          "text": [
            "Please enter a word: harun\n",
            "True\n",
            "{'u', 'r', 'n', 'h', 'a'}\n",
            "{'r', 'w', 'o', 't', 'b', 's', 'g', 'd', 'q', 'l', 'c', 'a', 'm', 'n', 'f', 'v', 'e', 'z', 'u', 'y', 'i', 'x', 'k', 'p', 'h', 'j'}\n"
          ],
          "name": "stdout"
        }
      ]
    },
    {
      "cell_type": "code",
      "metadata": {
        "colab": {
          "base_uri": "https://localhost:8080/"
        },
        "id": "8LBFuhIxYsr1",
        "outputId": "c0f31ee2-e875-43aa-cfc7-7249b9fd9e80"
      },
      "source": [
        "value = {\"e\",\"r\"}\n",
        "Left = {\"q\", \"w\", \"e\", \"r\", \"t\", \"a\", \"s\", \"d\", \"f\", \"g\", \"z\", \"x\", \"c\", \"v\", \"b\"}\n",
        "print(\"e\" in Left)"
      ],
      "execution_count": null,
      "outputs": [
        {
          "output_type": "stream",
          "text": [
            "True\n"
          ],
          "name": "stdout"
        }
      ]
    },
    {
      "cell_type": "code",
      "metadata": {
        "colab": {
          "base_uri": "https://localhost:8080/"
        },
        "id": "clF6KnzZsMuy",
        "outputId": "b99609fd-3ce5-4c3b-a8b5-29764a8c900d"
      },
      "source": [
        "value = set(input(\"Please enter a word: \"))\n",
        "Left = {\"q\", \"w\", \"e\", \"r\", \"t\", \"a\", \"s\", \"d\", \"f\", \"g\", \"z\", \"x\", \"c\", \"v\", \"b\", \"m\"}\n",
        "Right = {\"y\", \"u\", \"i\", \"o\", \"p\", \"h\", \"j\", \"k\", \"l\", \"n\", \"m\"}\n",
        "\n",
        "for item in value:\n",
        "  if item in Left-Right:\n",
        "    print(Fal)\n",
        "\n",
        "\n",
        "\n",
        "\n",
        "\n",
        "\n",
        "\n"
      ],
      "execution_count": null,
      "outputs": [
        {
          "output_type": "stream",
          "text": [
            "Please enter a word: f\n",
            "False\n"
          ],
          "name": "stdout"
        }
      ]
    },
    {
      "cell_type": "code",
      "metadata": {
        "id": "gIOg11iZm0Xw",
        "colab": {
          "base_uri": "https://localhost:8080/"
        },
        "outputId": "d0b6afb1-1b15-437e-bebe-1f0162e79605"
      },
      "source": [
        "number = 0\n",
        "\n",
        "while number<11:\n",
        "  print(number**2)\n",
        "  number += 1"
      ],
      "execution_count": null,
      "outputs": [
        {
          "output_type": "stream",
          "text": [
            "0\n",
            "1\n",
            "4\n",
            "9\n",
            "16\n",
            "25\n",
            "36\n",
            "49\n",
            "64\n",
            "81\n",
            "100\n"
          ],
          "name": "stdout"
        }
      ]
    },
    {
      "cell_type": "code",
      "metadata": {
        "colab": {
          "base_uri": "https://localhost:8080/",
          "height": 129
        },
        "id": "ET8LC5iNfnjL",
        "outputId": "1b060928-c796-407b-f8bc-df5092d9ac19"
      },
      "source": [
        "number = 0\n",
        "\n",
        "while number:\n",
        "  print(number**2)\n",
        "    if number=number: \n",
        "      break number =11\n",
        "  number += 1"
      ],
      "execution_count": null,
      "outputs": [
        {
          "output_type": "error",
          "ename": "IndentationError",
          "evalue": "ignored",
          "traceback": [
            "\u001b[0;36m  File \u001b[0;32m\"<ipython-input-6-1b7583ae1ef9>\"\u001b[0;36m, line \u001b[0;32m5\u001b[0m\n\u001b[0;31m    if number=number:\u001b[0m\n\u001b[0m    ^\u001b[0m\n\u001b[0;31mIndentationError\u001b[0m\u001b[0;31m:\u001b[0m unexpected indent\n"
          ]
        }
      ]
    },
    {
      "cell_type": "code",
      "metadata": {
        "id": "2zJoRuQCg2Lh",
        "colab": {
          "base_uri": "https://localhost:8080/"
        },
        "outputId": "ec583f06-a3f6-4802-fb78-9234c2eb3825"
      },
      "source": [
        "left = {'q', 'w', 'e', 'r', 't', 'a', 's', 'd', 'f', 'g', 'z', 'x', 'c', 'v', 'b'}\n",
        "right = {'y', 'u', 'i', 'o', 'p', 'h', 'j', 'k', 'l', 'n', 'm'}\n",
        "word = input('Enter a word:')\n",
        "print((set(word) & left) != set() and  (set(word) & right) != set())"
      ],
      "execution_count": null,
      "outputs": [
        {
          "output_type": "stream",
          "text": [
            "Enter a word:nm\n",
            "False\n"
          ],
          "name": "stdout"
        }
      ]
    },
    {
      "cell_type": "code",
      "metadata": {
        "colab": {
          "base_uri": "https://localhost:8080/"
        },
        "id": "Z2fbCsginb01",
        "outputId": "2db4900d-1027-4f7d-8043-feee0ea2fbc8"
      },
      "source": [
        "left = {'q', 'w', 'e', 'r', 't', 'a', 's', 'd', 'f', 'g', 'z', 'x', 'c', 'v', 'b'}\n",
        "right = {'y', 'u', 'i', 'o', 'p', 'h', 'j', 'k', 'l', 'n', 'm'}\n",
        "word = input('Enter a word:')\n",
        "print(set(word) & left)"
      ],
      "execution_count": null,
      "outputs": [
        {
          "output_type": "stream",
          "text": [
            "Enter a word:qwp\n",
            "{'q', 'w'}\n"
          ],
          "name": "stdout"
        }
      ]
    },
    {
      "cell_type": "code",
      "metadata": {
        "id": "fdr3eoDcnvMN",
        "colab": {
          "base_uri": "https://localhost:8080/"
        },
        "outputId": "19aa3a76-cb9c-44db-b194-b4eec20836b6"
      },
      "source": [
        "s = \"The youngest pope was 11 years old\"\n",
        "x = s.split()\n",
        "y = list(s)\n",
        "print(y)\n",
        "print(x)"
      ],
      "execution_count": null,
      "outputs": [
        {
          "output_type": "stream",
          "text": [
            "['T', 'h', 'e', ' ', 'y', 'o', 'u', 'n', 'g', 'e', 's', 't', ' ', 'p', 'o', 'p', 'e', ' ', 'w', 'a', 's', ' ', '1', '1', ' ', 'y', 'e', 'a', 'r', 's', ' ', 'o', 'l', 'd']\n",
            "['The', 'youngest', 'pope', 'was', '11', 'years', 'old']\n"
          ],
          "name": "stdout"
        }
      ]
    },
    {
      "cell_type": "code",
      "metadata": {
        "colab": {
          "base_uri": "https://localhost:8080/"
        },
        "id": "C3Fjuu6K0A3s",
        "outputId": "bed688b9-20d9-4991-cd9e-f93846e5e996"
      },
      "source": [
        "s = \"akdlkfakdkfak a\".split()\n",
        "print(s)"
      ],
      "execution_count": null,
      "outputs": [
        {
          "output_type": "stream",
          "text": [
            "['akdlkfakdkfak', 'a']\n"
          ],
          "name": "stdout"
        }
      ]
    },
    {
      "cell_type": "code",
      "metadata": {
        "colab": {
          "base_uri": "https://localhost:8080/",
          "height": 197
        },
        "id": "bJcbsNSf1aHX",
        "outputId": "347b4c31-fb66-4061-a83f-ef4cea92ba66"
      },
      "source": [
        "x = ['T', 'h', 'e', ' ', 'y', 'o', 'u', 'n', 'g', 'e', 's', 't', ' ', 'p', 'o', 'p', 'e', ' ', 'w', 'a', 's', ' ', '1', '1', ' ', 'y', 'e', 'a', 'r', 's', ' ', 'o', 'l', 'd']\n",
        "print(x.size())"
      ],
      "execution_count": null,
      "outputs": [
        {
          "output_type": "error",
          "ename": "AttributeError",
          "evalue": "ignored",
          "traceback": [
            "\u001b[0;31m---------------------------------------------------------------------------\u001b[0m",
            "\u001b[0;31mAttributeError\u001b[0m                            Traceback (most recent call last)",
            "\u001b[0;32m<ipython-input-9-1f97bee8c869>\u001b[0m in \u001b[0;36m<module>\u001b[0;34m()\u001b[0m\n\u001b[1;32m      1\u001b[0m \u001b[0mx\u001b[0m \u001b[0;34m=\u001b[0m \u001b[0;34m[\u001b[0m\u001b[0;34m'T'\u001b[0m\u001b[0;34m,\u001b[0m \u001b[0;34m'h'\u001b[0m\u001b[0;34m,\u001b[0m \u001b[0;34m'e'\u001b[0m\u001b[0;34m,\u001b[0m \u001b[0;34m' '\u001b[0m\u001b[0;34m,\u001b[0m \u001b[0;34m'y'\u001b[0m\u001b[0;34m,\u001b[0m \u001b[0;34m'o'\u001b[0m\u001b[0;34m,\u001b[0m \u001b[0;34m'u'\u001b[0m\u001b[0;34m,\u001b[0m \u001b[0;34m'n'\u001b[0m\u001b[0;34m,\u001b[0m \u001b[0;34m'g'\u001b[0m\u001b[0;34m,\u001b[0m \u001b[0;34m'e'\u001b[0m\u001b[0;34m,\u001b[0m \u001b[0;34m's'\u001b[0m\u001b[0;34m,\u001b[0m \u001b[0;34m't'\u001b[0m\u001b[0;34m,\u001b[0m \u001b[0;34m' '\u001b[0m\u001b[0;34m,\u001b[0m \u001b[0;34m'p'\u001b[0m\u001b[0;34m,\u001b[0m \u001b[0;34m'o'\u001b[0m\u001b[0;34m,\u001b[0m \u001b[0;34m'p'\u001b[0m\u001b[0;34m,\u001b[0m \u001b[0;34m'e'\u001b[0m\u001b[0;34m,\u001b[0m \u001b[0;34m' '\u001b[0m\u001b[0;34m,\u001b[0m \u001b[0;34m'w'\u001b[0m\u001b[0;34m,\u001b[0m \u001b[0;34m'a'\u001b[0m\u001b[0;34m,\u001b[0m \u001b[0;34m's'\u001b[0m\u001b[0;34m,\u001b[0m \u001b[0;34m' '\u001b[0m\u001b[0;34m,\u001b[0m \u001b[0;34m'1'\u001b[0m\u001b[0;34m,\u001b[0m \u001b[0;34m'1'\u001b[0m\u001b[0;34m,\u001b[0m \u001b[0;34m' '\u001b[0m\u001b[0;34m,\u001b[0m \u001b[0;34m'y'\u001b[0m\u001b[0;34m,\u001b[0m \u001b[0;34m'e'\u001b[0m\u001b[0;34m,\u001b[0m \u001b[0;34m'a'\u001b[0m\u001b[0;34m,\u001b[0m \u001b[0;34m'r'\u001b[0m\u001b[0;34m,\u001b[0m \u001b[0;34m's'\u001b[0m\u001b[0;34m,\u001b[0m \u001b[0;34m' '\u001b[0m\u001b[0;34m,\u001b[0m \u001b[0;34m'o'\u001b[0m\u001b[0;34m,\u001b[0m \u001b[0;34m'l'\u001b[0m\u001b[0;34m,\u001b[0m \u001b[0;34m'd'\u001b[0m\u001b[0;34m]\u001b[0m\u001b[0;34m\u001b[0m\u001b[0;34m\u001b[0m\u001b[0m\n\u001b[0;32m----> 2\u001b[0;31m \u001b[0mprint\u001b[0m\u001b[0;34m(\u001b[0m\u001b[0mx\u001b[0m\u001b[0;34m.\u001b[0m\u001b[0msize\u001b[0m\u001b[0;34m(\u001b[0m\u001b[0;34m)\u001b[0m\u001b[0;34m)\u001b[0m\u001b[0;34m\u001b[0m\u001b[0;34m\u001b[0m\u001b[0m\n\u001b[0m",
            "\u001b[0;31mAttributeError\u001b[0m: 'list' object has no attribute 'size'"
          ]
        }
      ]
    },
    {
      "cell_type": "code",
      "metadata": {
        "id": "U_5WrP9S7I60",
        "colab": {
          "base_uri": "https://localhost:8080/"
        },
        "outputId": "5c4d955b-bba4-4998-9630-189370256cb4"
      },
      "source": [
        "basket = {\"apple\", \"eggs\", \"banana\", \"orange\"}\n",
        "same = set([\"apple\", \"eggs\", \"banana\", \"orange\"])\n",
        "print(basket, same)"
      ],
      "execution_count": null,
      "outputs": [
        {
          "output_type": "stream",
          "text": [
            "{'orange', 'eggs', 'banana', 'apple'} {'orange', 'eggs', 'banana', 'apple'}\n"
          ],
          "name": "stdout"
        }
      ]
    },
    {
      "cell_type": "code",
      "metadata": {
        "colab": {
          "base_uri": "https://localhost:8080/"
        },
        "id": "Lc1vrSUiyhgH",
        "outputId": "85f10082-2f17-4f6f-e316-6def85046a11"
      },
      "source": [
        "x = [1,2,3]\n",
        "y = x.copy()\n",
        "x.append(4)\n",
        "y.append(5)\n",
        "print(x.count(2))\n",
        "print(x)\n",
        "print(y)\n"
      ],
      "execution_count": null,
      "outputs": [
        {
          "output_type": "stream",
          "text": [
            "1\n",
            "[1, 2, 3, 4]\n",
            "[1, 2, 3, 5]\n"
          ],
          "name": "stdout"
        }
      ]
    },
    {
      "cell_type": "code",
      "metadata": {
        "colab": {
          "base_uri": "https://localhost:8080/"
        },
        "id": "ijl1x_Nm2yAS",
        "outputId": "95f4ba4b-5f31-455c-8112-4a7db2430965"
      },
      "source": [
        "lst = [1,2,3]\n",
        "lst.pop(1)\n",
        "lst\n",
        "\n"
      ],
      "execution_count": null,
      "outputs": [
        {
          "output_type": "execute_result",
          "data": {
            "text/plain": [
              "[1, 3]"
            ]
          },
          "metadata": {
            "tags": []
          },
          "execution_count": 20
        }
      ]
    },
    {
      "cell_type": "code",
      "metadata": {
        "colab": {
          "base_uri": "https://localhost:8080/"
        },
        "id": "CFLEwOTH30J4",
        "outputId": "603a3a92-9e2b-49fc-c984-e6df35d05499"
      },
      "source": [
        "lst.index(\"harun\")"
      ],
      "execution_count": null,
      "outputs": [
        {
          "output_type": "execute_result",
          "data": {
            "text/plain": [
              "3"
            ]
          },
          "metadata": {
            "tags": []
          },
          "execution_count": 14
        }
      ]
    },
    {
      "cell_type": "code",
      "metadata": {
        "colab": {
          "base_uri": "https://localhost:8080/"
        },
        "id": "W19aPqlh46UC",
        "outputId": "ec43856e-6147-4190-e380-b866577febba"
      },
      "source": [
        "x = [1,3,5,4,6,2,7]\n",
        "x.reverse()\n",
        "x\n"
      ],
      "execution_count": null,
      "outputs": [
        {
          "output_type": "stream",
          "text": [
            "None\n"
          ],
          "name": "stdout"
        },
        {
          "output_type": "execute_result",
          "data": {
            "text/plain": [
              "[7, 2, 6, 4, 5, 3, 1]"
            ]
          },
          "metadata": {
            "tags": []
          },
          "execution_count": 45
        }
      ]
    },
    {
      "cell_type": "code",
      "metadata": {
        "colab": {
          "base_uri": "https://localhost:8080/"
        },
        "id": "Zv_dnXRS6VlD",
        "outputId": "b2154e18-b7a0-48f4-e331-e16864748c0d"
      },
      "source": [
        "squares = [x**2 for x in range(10)]\n",
        "squares"
      ],
      "execution_count": null,
      "outputs": [
        {
          "output_type": "execute_result",
          "data": {
            "text/plain": [
              "[0, 1, 4, 9, 16, 25, 36, 49, 64, 81]"
            ]
          },
          "metadata": {
            "tags": []
          },
          "execution_count": 1
        }
      ]
    },
    {
      "cell_type": "code",
      "metadata": {
        "colab": {
          "base_uri": "https://localhost:8080/"
        },
        "id": "z05eZq4_mtug",
        "outputId": "0f7e1223-243a-431a-cea5-f1b1c0cf6bda"
      },
      "source": [
        "vec = [-4, -2, 0, 2, 4]\n",
        "[x*2 for x in vec if x >= 0]"
      ],
      "execution_count": null,
      "outputs": [
        {
          "output_type": "execute_result",
          "data": {
            "text/plain": [
              "[0, 4, 8]"
            ]
          },
          "metadata": {
            "tags": []
          },
          "execution_count": 6
        }
      ]
    },
    {
      "cell_type": "code",
      "metadata": {
        "colab": {
          "base_uri": "https://localhost:8080/"
        },
        "id": "wXOnR7Tju_p3",
        "outputId": "98c7a70c-3f0d-4a29-a04d-a248537e9489"
      },
      "source": [
        "freshfruit = ['  banana', '  loganberry ', 'passion fruit  ']\n",
        "[x.strip() for x in freshfruit]"
      ],
      "execution_count": null,
      "outputs": [
        {
          "output_type": "execute_result",
          "data": {
            "text/plain": [
              "['banana', 'loganberry', 'passion fruit']"
            ]
          },
          "metadata": {
            "tags": []
          },
          "execution_count": 8
        }
      ]
    },
    {
      "cell_type": "code",
      "metadata": {
        "colab": {
          "base_uri": "https://localhost:8080/"
        },
        "id": "Pv7KPYn1x9rn",
        "outputId": "90eea9c1-93fd-43ef-e7c1-f257859bd8e9"
      },
      "source": [
        "matrix = [\n",
        "    [1, 2, 3, 4],\n",
        "    [5, 6, 7, 8],\n",
        "    [9, 10, 11, 12],\n",
        "]\n",
        "\n",
        "[[row[i] for row in matrix] for i in range(4)]"
      ],
      "execution_count": null,
      "outputs": [
        {
          "output_type": "execute_result",
          "data": {
            "text/plain": [
              "[[1, 5, 9], [2, 6, 10], [3, 7, 11], [4, 8, 12]]"
            ]
          },
          "metadata": {
            "tags": []
          },
          "execution_count": 9
        }
      ]
    },
    {
      "cell_type": "code",
      "metadata": {
        "colab": {
          "base_uri": "https://localhost:8080/"
        },
        "id": "zVq8NDqI-5-b",
        "outputId": "0d0d98da-ca53-4929-891a-a54d0a8662c5"
      },
      "source": [
        "x = []\n",
        "\n",
        "for i in range(4):\n",
        "    x.append([row[i] for row in matrix])\n",
        "\n",
        "x"
      ],
      "execution_count": null,
      "outputs": [
        {
          "output_type": "execute_result",
          "data": {
            "text/plain": [
              "[[1, 5, 9], [2, 6, 10], [3, 7, 11], [4, 8, 12]]"
            ]
          },
          "metadata": {
            "tags": []
          },
          "execution_count": 12
        }
      ]
    },
    {
      "cell_type": "code",
      "metadata": {
        "id": "2SKTA_PgAIhO",
        "colab": {
          "base_uri": "https://localhost:8080/",
          "height": 129
        },
        "outputId": "58fcd08d-1caa-4a15-dac3-4c80697bc549"
      },
      "source": [
        "letter_items=[]letter_items=[]"
      ],
      "execution_count": null,
      "outputs": [
        {
          "output_type": "error",
          "ename": "SyntaxError",
          "evalue": "ignored",
          "traceback": [
            "\u001b[0;36m  File \u001b[0;32m\"<ipython-input-34-f6c1c0e4ac05>\"\u001b[0;36m, line \u001b[0;32m6\u001b[0m\n\u001b[0;31m    while k < len(grp_anagrams[i])\u001b[0m\n\u001b[0m                                  ^\u001b[0m\n\u001b[0;31mSyntaxError\u001b[0m\u001b[0;31m:\u001b[0m invalid syntax\n"
          ]
        }
      ]
    },
    {
      "cell_type": "code",
      "metadata": {
        "id": "Lc2_-GxgkY7H"
      },
      "source": [
        "grp_anagrams = [\"eat\", \"tea\", \"tan\", \"ate\", \"nat\", \"bat\"]\n",
        "\n",
        "k = 0\n",
        "while k < len(grp_anagrams):\n",
        "  for grp_anagrams[k] in grp_anagrams:\n",
        "    i = 0\n",
        "    new_list = []\n",
        "    while i < len(grp_anagrams):\n",
        "      if set(grp_anagrams[k]) == set(grp_anagrams[i]):\n",
        "        new_list.append(grp_anagrams[k])\n",
        "        new_list.append(grp_anagrams[i])\n",
        "        i += 1\n",
        "  k += 1\n",
        "\n",
        "  new_list\n",
        "\n",
        "\n"
      ],
      "execution_count": null,
      "outputs": []
    },
    {
      "cell_type": "code",
      "metadata": {
        "id": "OzZr-QFNxlog"
      },
      "source": [
        "grp_anagrams = [\"eat\", \"tea\", \"tan\", \"ate\", \"nat\", \"bat\"]\n",
        "\n",
        "[[item[same] for item in grp_anagrams] if set(item) == set(item) ]]\n"
      ],
      "execution_count": null,
      "outputs": []
    },
    {
      "cell_type": "code",
      "metadata": {
        "id": "f4f-6L0otDxQ"
      },
      "source": [
        "matrix = [\n",
        "    [1, 2, 3, 4],\n",
        "    [5, 6, 7, 8],\n",
        "    [9, 10, 11, 12],\n",
        "]\n",
        "\n",
        "[[row[i] for row in matrix] for i in range(4)]"
      ],
      "execution_count": null,
      "outputs": []
    },
    {
      "cell_type": "code",
      "metadata": {
        "id": "R8hQwj0eHO0Q"
      },
      "source": [
        ""
      ],
      "execution_count": null,
      "outputs": []
    },
    {
      "cell_type": "code",
      "metadata": {
        "id": "A3sXO9nkHUQ6"
      },
      "source": [
        ""
      ],
      "execution_count": null,
      "outputs": []
    },
    {
      "cell_type": "markdown",
      "metadata": {
        "id": "XaeVMUOoHf4c"
      },
      "source": [
        "Take a string with input() and returns the Morse code equivalent.\n",
        "Examples"
      ]
    },
    {
      "cell_type": "code",
      "metadata": {
        "id": "KQVnidgYHgq-"
      },
      "source": [
        "\"EDABBIT CHALLENGE\" ➞ \". -.. .- -... -... .. -   -.-. .... .- .-.. .-.. . -. --. .\"\n",
        "\"HELP ME !\" ➞ \".... . .-.. .--.   -- .   -.-.--\""
      ],
      "execution_count": null,
      "outputs": []
    },
    {
      "cell_type": "markdown",
      "metadata": {
        "id": "DSdME8-tHlVo"
      },
      "source": [
        "This dictionary can be used for coding:\n"
      ]
    },
    {
      "cell_type": "code",
      "metadata": {
        "id": "qT3EXni_HmBv"
      },
      "source": [
        "char_to_dots = {\n",
        "  'A': '.-', 'B': '-...', 'C': '-.-.', 'D': '-..', 'E': '.', 'F': '..-.',\n",
        "  'G': '--.', 'H': '....', 'I': '..', 'J': '.---', 'K': '-.-', 'L': '.-..',\n",
        "  'M': '--', 'N': '-.', 'O': '---', 'P': '.--.', 'Q': '--.-', 'R': '.-.',\n",
        "  'S': '...', 'T': '-', 'U': '..-', 'V': '...-', 'W': '.--', 'X': '-..-',\n",
        "  'Y': '-.--', 'Z': '--..', ' ': ' ', '0': '-----',\n",
        "  '1': '.----', '2': '..---', '3': '...--', '4': '....-', '5': '.....',\n",
        "  '6': '-....', '7': '--...', '8': '---..', '9': '----.',\n",
        "  '&': '.-...', \"'\": '.----.', '@': '.--.-.', ')': '-.--.-', '(': '-.--.',\n",
        "  ':': '---...', ',': '--..--', '=': '-...-', '!': '-.-.--', '.': '.-.-.-',\n",
        "  '-': '-....-', '+': '.-.-.', '\"': '.-..-.', '?': '..--..', '/': '-..-.'\n",
        "}"
      ],
      "execution_count": null,
      "outputs": []
    },
    {
      "cell_type": "markdown",
      "metadata": {
        "id": "4k67QwXpHoir"
      },
      "source": [
        "Notes\n",
        "Ouput should be International Morse Code, and use the standard conventions for symbols not defined inside the ITU recommendation (see Resources).\n",
        "Input value can be lower or upper case.\n",
        "Input string can have digits.\n",
        "Input string can have some special characters (e.g. comma, colon, apostrophe, period, question mark, exclamation mark).\n",
        "One space \" \" is expected after each character, except the last one."
      ]
    },
    {
      "cell_type": "code",
      "metadata": {
        "colab": {
          "base_uri": "https://localhost:8080/"
        },
        "id": "ST5vCmf_HsIe",
        "outputId": "93ac2563-781f-4fb7-9ec7-7da56fe14270"
      },
      "source": [
        "char_to_dots = {\n",
        "  'A': '.-', 'B': '-...', 'C': '-.-.', 'D': '-..', 'E': '.', 'F': '..-.',\n",
        "  'G': '--.', 'H': '....', 'I': '..', 'J': '.---', 'K': '-.-', 'L': '.-..',\n",
        "  'M': '--', 'N': '-.', 'O': '---', 'P': '.--.', 'Q': '--.-', 'R': '.-.',\n",
        "  'S': '...', 'T': '-', 'U': '..-', 'V': '...-', 'W': '.--', 'X': '-..-',\n",
        "  'Y': '-.--', 'Z': '--..', ' ': ' ', '0': '-----',\n",
        "  '1': '.----', '2': '..---', '3': '...--', '4': '....-', '5': '.....',\n",
        "  '6': '-....', '7': '--...', '8': '---..', '9': '----.',\n",
        "  '&': '.-...', \"'\": '.----.', '@': '.--.-.', ')': '-.--.-', '(': '-.--.',\n",
        "  ':': '---...', ',': '--..--', '=': '-...-', '!': '-.-.--', '.': '.-.-.-',\n",
        "  '-': '-....-', '+': '.-.-.', '\"': '.-..-.', '?': '..--..', '/': '-..-.'\n",
        "}\n",
        "\n",
        "text = input(\"text girin: \").strip().upper()\n",
        "list_txt =[]\n",
        "\n",
        "for i in text:\n",
        "  list_txt.append([char_to_dots[i]])\n",
        "print(list_txt)"
      ],
      "execution_count": 3,
      "outputs": [
        {
          "output_type": "stream",
          "text": [
            "text girin: harun\n",
            "[['....'], ['.-'], ['.-.'], ['..-'], ['-.']]\n"
          ],
          "name": "stdout"
        }
      ]
    },
    {
      "cell_type": "code",
      "metadata": {
        "colab": {
          "base_uri": "https://localhost:8080/"
        },
        "id": "6dsm34UkKx5D",
        "outputId": "eab0f38b-9f28-4c10-f153-4a236eb7470e"
      },
      "source": [
        "char_to_dots = {\n",
        "  'A': '.-', 'B': '-...', 'C': '-.-.', 'D': '-..', 'E': '.', 'F': '..-.',\n",
        "  'G': '--.', 'H': '....', 'I': '..', 'J': '.---', 'K': '-.-', 'L': '.-..',\n",
        "  'M': '--', 'N': '-.', 'O': '---', 'P': '.--.', 'Q': '--.-', 'R': '.-.',\n",
        "  'S': '...', 'T': '-', 'U': '..-', 'V': '...-', 'W': '.--', 'X': '-..-',\n",
        "  'Y': '-.--', 'Z': '--..', ' ': ' ', '0': '-----',\n",
        "  '1': '.----', '2': '..---', '3': '...--', '4': '....-', '5': '.....',\n",
        "  '6': '-....', '7': '--...', '8': '---..', '9': '----.',\n",
        "  '&': '.-...', \"'\": '.----.', '@': '.--.-.', ')': '-.--.-', '(': '-.--.',\n",
        "  ':': '---...', ',': '--..--', '=': '-...-', '!': '-.-.--', '.': '.-.-.-',\n",
        "  '-': '-....-', '+': '.-.-.', '\"': '.-..-.', '?': '..--..', '/': '-..-.'\n",
        "}\n",
        "text = input('Enter a text > ').strip().upper()\n",
        "result = []\n",
        "result_text = ''\n",
        "for i in text:\n",
        "    if i in char_to_dots.keys():\n",
        "        result.append(char_to_dots[i])\n",
        "for i in result:\n",
        "    result_text += (i + ' ') \n",
        "print(result_text)"
      ],
      "execution_count": 4,
      "outputs": [
        {
          "output_type": "stream",
          "text": [
            "Enter a text > harun\n",
            ".... .- .-. ..- -. \n"
          ],
          "name": "stdout"
        }
      ]
    },
    {
      "cell_type": "code",
      "metadata": {
        "id": "TX3snZ0-LZDp"
      },
      "source": [
        ""
      ],
      "execution_count": null,
      "outputs": []
    }
  ]
}