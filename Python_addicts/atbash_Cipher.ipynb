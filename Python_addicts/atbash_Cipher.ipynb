{
  "nbformat": 4,
  "nbformat_minor": 0,
  "metadata": {
    "colab": {
      "name": "atbash_Cipher.ipynb",
      "provenance": [],
      "collapsed_sections": []
    },
    "kernelspec": {
      "name": "python3",
      "display_name": "Python 3"
    },
    "language_info": {
      "name": "python"
    }
  },
  "cells": [
    {
      "cell_type": "markdown",
      "metadata": {
        "id": "W21MCANXln2w"
      },
      "source": [
        "Atbash Cipher\n",
        "\n",
        "The Atbash cipher is an encryption method in which each letter of a word is replaced with its \"mirror\" letter in the alphabet: A <=> Z; B <=> Y; C <=> X; etc.\n",
        "\n",
        "Create a function that takes a string and applies the Atbash cipher to it.\n",
        "\n",
        "Examples\n",
        "atbash(\"apple\") ➞ \"zkkov\"\n",
        "\n",
        "atbash(\"Hello world!\") ➞ \"Svool dliow!\"\n",
        "\n",
        "atbash(\"Christmas is the 25th of December\") ➞ \"Xsirhgnzh rh gsv 25gs lu Wvxvnyvi\"\n",
        "Notes\n",
        "Capitalisation should be retained.\n",
        "Non-alphabetic characters should not be altered."
      ]
    },
    {
      "cell_type": "code",
      "metadata": {
        "id": "gS73sayFlqRo"
      },
      "source": [
        "def atbash(t):\n",
        "  new_txt= \"\"\n",
        "  list1 = list(range(65,91)) \n",
        "  list2 = list(range(97,123))\n",
        "  for i in t:\n",
        "    if ord(i) in list1 :\n",
        "      new_txt += chr(list1[-1*list1.index(ord(i))-1])\n",
        "    elif ord(i) in list2 :\n",
        "      new_txt += chr(list2[-1*list2.index(ord(i))-1])\n",
        "    else:\n",
        "      new_txt += i\n",
        "  return new_txt\n",
        "\n",
        "atbash('ABCDfgh 23!')"
      ],
      "execution_count": null,
      "outputs": []
    }
  ]
}