{
  "nbformat": 4,
  "nbformat_minor": 0,
  "metadata": {
    "colab": {
      "name": "Longest Alternating Substring .ipynb",
      "provenance": [],
      "collapsed_sections": []
    },
    "kernelspec": {
      "name": "python3",
      "display_name": "Python 3"
    },
    "language_info": {
      "name": "python"
    }
  },
  "cells": [
    {
      "cell_type": "markdown",
      "metadata": {
        "id": "eJmv7IfSeRkc"
      },
      "source": [
        "Longest Alternating Substring\n",
        "Given a string of digits, return the longest substring with alternating odd/even or even/odd digits. If two or more substrings have the same length, return the substring that occurs first.\n",
        "\n",
        "Examples\n",
        "longest_substring(\"225424272163254474441338664823\") ➞ \"272163254\"\n",
        "# substrings = 254, 272163254, 474, 41, 38, 23\n",
        "\n",
        "longest_substring(\"594127169973391692147228678476\") ➞ \"16921472\"\n",
        "# substrings = 94127, 169, 16921472, 678, 476\n",
        "\n",
        "longest_substring(\"721449827599186159274227324466\") ➞ \"7214\"\n",
        "# substrings = 7214, 498, 27, 18, 61, 9274, 27, 32\n",
        "# 7214 and 9274 have same length, but 7214 occurs first.\n",
        "Notes\n",
        "The minimum alternating substring size is 2."
      ]
    },
    {
      "cell_type": "code",
      "metadata": {
        "id": "DUjBPkGKeP6c"
      },
      "source": [
        "def substring(string):\n",
        "  list_substring = []\n",
        "  k = 0\n",
        "  substring =\"\"\n",
        "  while k < len(string) - 1:\n",
        "    if k == len(string) -2 :\n",
        "      if int(string[k])%2 != int(string[k+1])%2:\n",
        "        substring += string[k:]\n",
        "        list_substring.append(substring)\n",
        "    elif int(string[k])%2 != int(string[k+1])%2:\n",
        "      substring += string[k]\n",
        "    else:\n",
        "      substring += string[k]\n",
        "      if len(substring) > 1:\n",
        "        list_substring.append(substring)\n",
        "      substring = \"\"\n",
        "    k += 1\n",
        "  print(list_substring)\n",
        "\n",
        "  max_lst =[]\n",
        "  for i in list_substring:\n",
        "    max_lst.append(len(i))\n",
        "  for k in list_substring:\n",
        "    if len(k) == max(max_lst):\n",
        "      return k\n",
        "\n",
        "substring(\"721449827599186159274227324466\")"
      ],
      "execution_count": null,
      "outputs": []
    }
  ]
}