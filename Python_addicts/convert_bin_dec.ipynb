{
  "nbformat": 4,
  "nbformat_minor": 0,
  "metadata": {
    "colab": {
      "name": "convert_bin_dec.ipynb",
      "provenance": [],
      "collapsed_sections": []
    },
    "kernelspec": {
      "name": "python3",
      "display_name": "Python 3"
    },
    "language_info": {
      "name": "python"
    }
  },
  "cells": [
    {
      "cell_type": "code",
      "metadata": {
        "id": "uVzWMEb_m_O2"
      },
      "source": [
        "def binary(decimal):\n",
        "    result = \"\"\n",
        "    while decimal >=1:\n",
        "        result += str(int(decimal%2))\n",
        "        decimal -= (decimal/2)\n",
        "    return result[::-1]\n",
        "print(binary(20))"
      ],
      "execution_count": null,
      "outputs": []
    },
    {
      "cell_type": "code",
      "metadata": {
        "id": "T2WJWgvInRrX"
      },
      "source": [
        "decimal = int(input())\n",
        "if 1 <= decimal < 1024:\n",
        "  binary = \"\"\n",
        "  while decimal >= 1:\n",
        "    binary += str(int(decimal%2))\n",
        "    decimal -= (decimal/2)\n",
        "elif decimal == 0:\n",
        "  binary = \"0\"\n",
        "else:\n",
        "  print(\"out of scope\")\n",
        "  \n",
        "print(binary[::-1])"
      ],
      "execution_count": null,
      "outputs": []
    },
    {
      "cell_type": "code",
      "metadata": {
        "id": "Z44aP1kcnHfx"
      },
      "source": [
        "binary = input()\n",
        "if 1 <= len(binary) < 11:\n",
        "  decimal = 0\n",
        "  num = 0\n",
        "  for i in binary[::-1]:\n",
        "      decimal += int(i)*(2**num)\n",
        "      num += 1\n",
        "    \n",
        "elif binary == \"0\":\n",
        "  decimal = 0\n",
        "else:\n",
        "  print(\"out of scope\")\n",
        "\n",
        "print(decimal)"
      ],
      "execution_count": null,
      "outputs": []
    }
  ]
}