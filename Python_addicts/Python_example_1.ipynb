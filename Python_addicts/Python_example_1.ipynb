{
  "nbformat": 4,
  "nbformat_minor": 0,
  "metadata": {
    "colab": {
      "name": "Python_example_1.ipynb",
      "provenance": [],
      "collapsed_sections": []
    },
    "kernelspec": {
      "name": "python3",
      "display_name": "Python 3"
    },
    "language_info": {
      "name": "python"
    }
  },
  "cells": [
    {
      "cell_type": "markdown",
      "metadata": {
        "id": "r9B45NdlOz1t"
      },
      "source": [
        "```\n",
        "1 Sansürlü kelimeyi düzeltelim\n",
        "print(sansür(\"pyth*n\", \"o\")) ---> python\n",
        "print(sansür(\"*r*b*m* p*rk *tt*m\",\"aaaıaei\"))  --> arabamı park ettim\n",
        "```\n",
        "\n"
      ]
    },
    {
      "cell_type": "code",
      "metadata": {
        "id": "Dec7GvHIxtl7"
      },
      "source": [
        "\n",
        "\n"
      ],
      "execution_count": null,
      "outputs": []
    },
    {
      "cell_type": "code",
      "metadata": {
        "id": "bqf2ByTvxbfX"
      },
      "source": [
        "def sansür(sansürlü, sesli):\n",
        "  n=0\n",
        "  for i in sansürlü:\n",
        "    if i=='*':\n",
        "      sansürlü=sansürlü.replace('*',sesli[n],5)\n",
        "      n+=1\n",
        "  return sansürlü\n",
        "print(sansür(\"pyth*n\", \"o\")) \n",
        "print(sansür(\"*r*b*m* p*rk *tt*m\",\"aiaıaei\"))"
      ],
      "execution_count": null,
      "outputs": []
    },
    {
      "cell_type": "markdown",
      "metadata": {
        "id": "Q5AiEAoiPHH-"
      },
      "source": [
        "```\n",
        "2. Girdisi string olan ifadenin içerisindeki harflerin türkçe alfabesindeki yerlerini bulup, hepsinin değerlerini toplayıp sonuç çiftse True tekse False yazdıran bir fonksiyon yazınız.\n",
        "print(kelime_cift_mi(\"Bilgisayar\")) -->True\n",
        "```\n",
        "\n"
      ]
    },
    {
      "cell_type": "code",
      "metadata": {
        "id": "XnmRS2-qBwG0"
      },
      "source": [
        "def odd_or_even(string):\n",
        "  alp = {\"a\": 1, \"b\" : 2, \"c\": 3, \"ç\":4, \"d\":5, \"e\":6, \"f\":7, \"g\":8, \"ğ\":9, \"h\":10, \"i\":11, \"ı\":12, \"j\":13, \"k\":14, \"l\":15, \"m\":16, \"n\":17, \"o\":18, \"ö\":19, \"p\":20, \"r\":21, \"s\":22, \"ş\":23, \"t\":24, \"u\":25, \"ü\":26, \"v\":27, \"y\":28, \"z\":29}\n",
        "  inpt = list(string)\n",
        "  total = 0\n",
        "  for i in inpt:\n",
        "    if i in alp:\n",
        "      total += alp[i]\n",
        "  if total%2:\n",
        "    print(False)\n",
        "  else:\n",
        "    print(True)\n",
        "    \n",
        "odd_or_even(\"harun\")"
      ],
      "execution_count": null,
      "outputs": []
    },
    {
      "cell_type": "markdown",
      "metadata": {
        "id": "yUnkroayPGvn"
      },
      "source": [
        "\n",
        "```\n",
        " 3. Write a program to prompt the user for hours and rate per hour using input to compute gross pay. Pay should be the normal rate for hours up to 40 and time-and-a-half for the hourly rate for all hours worked above 40 hours. Put the logic to do the computation of pay in a function called computepay() and use the function to do the computation. The function should return a value. Use 45 hours and a rate of 10.50 per hour to test the program (the pay should be 498.75). You should use input to read a string and float() to convert the string to a number. Do not worry about error checking the user input unless you want to - you can assume the user types numbers properly. Do not name your variable sum or use the sum() function\n",
        "\n",
        "```\n",
        "\n"
      ]
    },
    {
      "cell_type": "code",
      "metadata": {
        "id": "4MEyCoUFGJwl"
      },
      "source": [
        "def grosspay(h_work,rate_h):\n",
        "  total=0\n",
        "  if h_work <= 40:\n",
        "    total = h_work*rate_h\n",
        "  elif h_work >=40:\n",
        "    total = (40*rate_h) + ((h_work -40)*(rate_h*1.5))\n",
        "  return total\n",
        "\n",
        "grosspay(45,10.50)\n",
        "\n",
        "\n"
      ],
      "execution_count": null,
      "outputs": []
    },
    {
      "cell_type": "markdown",
      "metadata": {
        "id": "agUSmN0iPGqB"
      },
      "source": [
        "```\n",
        "4. Sayının faktöriyelini hesaplayan fonksiyon yazalım.\n",
        "```\n",
        "\n",
        "\n"
      ]
    },
    {
      "cell_type": "code",
      "metadata": {
        "id": "7Rm4W3rKUr-b"
      },
      "source": [
        "def fakt(number):\n",
        "  total = 1\n",
        "  for i in range(2, number +1):\n",
        "    total *= i \n",
        "  return total\n",
        "\n",
        "fakt(6)"
      ],
      "execution_count": null,
      "outputs": []
    },
    {
      "cell_type": "markdown",
      "metadata": {
        "id": "tPWXxyrEPGmw"
      },
      "source": [
        "```\n",
        "5. Sayı ve string paramestresi alan, sayıyı geriye doğru aralarında * olacak şekilde yazdıran, sonuna verilen stringi büyük harflerle ekleyen ve en sona ! işareti koyan bir fonksiyon yazalım\n",
        " ÖRNEK\n",
        "geri_say(3,\"go\")--> \"3*2*1*GO!\"**kalın metin**\n",
        "```\n",
        "\n"
      ]
    },
    {
      "cell_type": "code",
      "metadata": {
        "id": "7UyMawhFY5RF"
      },
      "source": [
        "def geri_say(number,string):\n",
        "  result = \"\"\n",
        "  for i in range(number,0,-1):\n",
        "    result +=  str(i) + \"*\" \n",
        "  result += string.upper() + \"!\"\n",
        "  print(result)\n",
        "geri_say(45,\"go\")\n",
        "  "
      ],
      "execution_count": null,
      "outputs": []
    },
    {
      "cell_type": "markdown",
      "metadata": {
        "id": "X0np6sCFPGjA"
      },
      "source": [
        "```\n",
        "6. Arif ve Raife listede yanyana duruyorlasa True döndüren durmuyorlarsa False döndüren bir fonksiyon yazalım.\n",
        "print(yan_yana_mı([\"Arif\",\"Raife\",\"Nihal\"])) --> True\n",
        "print(yan_yana_mı([\"Arif\",\"Nihal\",\"Raife\"])) --> False\n",
        "```\n",
        "\n"
      ]
    },
    {
      "cell_type": "code",
      "metadata": {
        "colab": {
          "base_uri": "https://localhost:8080/"
        },
        "id": "7Fx7ri9jxtiW",
        "outputId": "1af639af-c1da-420d-d15c-41d30088cb46"
      },
      "source": [
        "def yan_yana_mi(liste):\n",
        "  for i in liste:\n",
        "    if liste.index('Arif')+1 == liste.index('Raife') or liste.index('Arif') == liste.index('Raife') +1:\n",
        "      return True\n",
        "    else:\n",
        "      return False\n",
        "\n",
        "print(yan_yana_mi([\"Arif\",\"Nihal\",\"Raife\"]))"
      ],
      "execution_count": null,
      "outputs": [
        {
          "output_type": "stream",
          "text": [
            "False\n"
          ],
          "name": "stdout"
        }
      ]
    },
    {
      "cell_type": "markdown",
      "metadata": {
        "id": "o8RAQ9ZpPGcN"
      },
      "source": [
        "```\n",
        "7. Listedeki her elemanı kendi indexi ile çarpıp toplamı veren bir fonksiyon yazalım.\n",
        "print(carpip_topla([1,2,3,4,5,6,7,8,9,10])) --> 330\n",
        "```\n",
        "\n",
        "\n",
        "\n"
      ]
    },
    {
      "cell_type": "code",
      "metadata": {
        "id": "lftQkXsBuOKE"
      },
      "source": [
        "def sum(lst):\n",
        "  total = 0\n",
        "  for i in range(len(lst)):\n",
        "    total += i*lst[i]\n",
        "  return total\n",
        "\n",
        "sum([1,2,3,4])\n"
      ],
      "execution_count": null,
      "outputs": []
    },
    {
      "cell_type": "markdown",
      "metadata": {
        "id": "6eFw-Cy2PGYg"
      },
      "source": [
        "```\n",
        "8. Cümledeki sayı ve harflerin sayısını bulan bir fonksiyon yazalım\n",
        "print(harf_sayi_sayisi(\"10'a kadar saysam ve sonrasında hayat bayram olsa.\")) --> Harfler: 39, Sayılar: 2\n",
        "\n",
        "```\n",
        "\n",
        "\n"
      ]
    },
    {
      "cell_type": "code",
      "metadata": {
        "id": "eoiy5mnV2v9G"
      },
      "source": [
        "def count_num_str(string):\n",
        "  s = string.upper()\n",
        "  num_total= 0\n",
        "  str_total= 0\n",
        "  for i in s:\n",
        "    if ord(i) in range(65,91):\n",
        "      str_total += 1\n",
        "    elif ord(i) in range(48,57):\n",
        "      num_total += 1\n",
        "  print(\"total of number: \",num_total , \"total of string: \", str_total ) \n",
        "\n",
        "count_num_str(\"10'a kadar saysam ve sonrasında hayat bayram olsa.\")"
      ],
      "execution_count": null,
      "outputs": []
    },
    {
      "cell_type": "markdown",
      "metadata": {
        "id": "txt134wgPGVZ"
      },
      "source": [
        "```\n",
        "9.Stringin içindeki en büyük ve en küçük sayıyı veren fonksiyon yazalım.\n",
        "print(büyük_kücük(\"3 2 4 6 -1 12\")) --> 12 -1\n",
        "```\n",
        "\n"
      ]
    },
    {
      "cell_type": "code",
      "metadata": {
        "id": "kgVu4mjbt0Ef"
      },
      "source": [
        "def number(string):\n",
        "  lst = string.split()\n",
        "  lst_n =[]\n",
        "  for i in lst:\n",
        "    lst_n.append(int(i))\n",
        "  maxx = max(lst_n)\n",
        "  minn = min(lst_n)\n",
        "  return maxx, minn\n",
        "\n",
        "number(\"1 2 10 4 -5\")\n",
        "    \n"
      ],
      "execution_count": null,
      "outputs": []
    },
    {
      "cell_type": "markdown",
      "metadata": {
        "id": "RhGJCDaNPGIS"
      },
      "source": [
        "```\n",
        "10. Harfler ve boşluklardan oluşan stringin içindeki kelime nin uzunluğu beş veya dah fazla ise o kelimeyi ters çeviren bir fonksiyon yazalım.\n",
        "print(ters_döndür(\"Ah bir data scientist olabilsem:)\")) --> Ah bir data tsitneics ):meslibalo\n",
        "```\n",
        "\n"
      ]
    },
    {
      "cell_type": "code",
      "metadata": {
        "id": "oZZpi_IDQOEv",
        "colab": {
          "base_uri": "https://localhost:8080/"
        },
        "outputId": "6d5543e3-7588-460b-9eb8-c8f75345cb28"
      },
      "source": [
        "def ters_döndür(string):\n",
        "  lst1 = string.split()\n",
        "  new_string = \"\"\n",
        "  for i in lst1:\n",
        "    if len(i) < 5:\n",
        "      new_string += i +\" \" \n",
        "    else:\n",
        "      new_string += i[::-1] +\" \"\n",
        "\n",
        "  print(new_string) \n",
        "  \n",
        "ters_döndür(\"Ah bir data scientist olabilsem:)\")\n",
        "    "
      ],
      "execution_count": null,
      "outputs": [
        {
          "output_type": "stream",
          "text": [
            "Ah bir data tsitneics ):meslibalo \n"
          ],
          "name": "stdout"
        }
      ]
    },
    {
      "cell_type": "code",
      "metadata": {
        "id": "BDDRzp0oRmuq"
      },
      "source": [
        ""
      ],
      "execution_count": null,
      "outputs": []
    }
  ]
}