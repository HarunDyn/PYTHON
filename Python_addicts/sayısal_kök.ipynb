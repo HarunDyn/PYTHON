{
  "nbformat": 4,
  "nbformat_minor": 0,
  "metadata": {
    "colab": {
      "name": "sayısal_kök.ipynb",
      "provenance": [],
      "collapsed_sections": []
    },
    "kernelspec": {
      "name": "python3",
      "display_name": "Python 3"
    },
    "language_info": {
      "name": "python"
    }
  },
  "cells": [
    {
      "cell_type": "markdown",
      "metadata": {
        "id": "_uSIHBZs6fM2"
      },
      "source": [
        "Sayısal kök , bir sayıdaki tüm rakamların özyinelemeli toplamıdır.\n",
        "Verilen n, rakamlarının toplamını alın n. Bu değerin birden fazla hanesi varsa, tek haneli bir sayı üretilene kadar bu şekilde düşürmeye devam edin. Girdi, negatif olmayan bir tam sayı olacaktır.\n",
        "Örnekler\n",
        "    16  -->  1 + 6 = 7\n",
        "   942  -->  9 + 4 + 2 = 15  -->  1 + 5 = 6\n",
        "132189  -->  1 + 3 + 2 + 1 + 8 + 9 = 24  -->  2 + 4 = 6\n",
        "493193  -->  4 + 9 + 3 + 1 + 9 + 3 = 29  -->  2 + 9 = 11  -->  1 + 1 = 2\n",
        "WikipediaWikipedia\n",
        "Digital root\n",
        "The digital root (also repeated digital sum) of a natural number in a given radix is the (single digit) value obtained by an iterative process of summing digits, on each iteration using the result from the previous iteration to compute a digit sum. The process continues until a single-digit number is reached. In base 10, this is equivalent to taking the remainder upon division by 9 (except when the digital root is 9, where the remainder upon division by 9 will be 0)."
      ]
    },
    {
      "cell_type": "code",
      "metadata": {
        "id": "WmbidJOh6hu4"
      },
      "source": [
        "def tekhane(number):\n",
        "  totals = number\n",
        "  while True:\n",
        "    k= 0\n",
        "    for i in str(totals):\n",
        "      k += int(i)\n",
        "    totals = k\n",
        "    if len(str(totals)) == 1:\n",
        "      print(totals)\n",
        "      break\n",
        "    \n",
        "\n",
        "tekhane(132189)"
      ],
      "execution_count": null,
      "outputs": []
    }
  ]
}