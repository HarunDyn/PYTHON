{
  "nbformat": 4,
  "nbformat_minor": 0,
  "metadata": {
    "colab": {
      "name": "Pronic_number.ipynb",
      "provenance": [],
      "collapsed_sections": []
    },
    "kernelspec": {
      "name": "python3",
      "display_name": "Python 3"
    },
    "language_info": {
      "name": "python"
    }
  },
  "cells": [
    {
      "cell_type": "markdown",
      "metadata": {
        "id": "tSo9cXoFVJuC"
      },
      "source": [
        "Pronic Number A pronic number (or otherwise called as heteromecic) is a number which is a product of two consecutive integers, that is, a number of the form n(n + 1). Create a function that determines whether a number is pronic or not."
      ]
    },
    {
      "cell_type": "code",
      "metadata": {
        "id": "cNLAWLUBVCn-"
      },
      "source": [
        "num = int(input())\n",
        "is_pronic_num = False\n",
        "for i in range(num):\n",
        "  if i*(i+1) == num:\n",
        "    is_pronic_num = True\n",
        "    break\n",
        "print(is_pronic_num)"
      ],
      "execution_count": null,
      "outputs": []
    }
  ]
}