{
  "nbformat": 4,
  "nbformat_minor": 0,
  "metadata": {
    "colab": {
      "name": "lıkes.ipynb",
      "provenance": [],
      "collapsed_sections": []
    },
    "kernelspec": {
      "name": "python3",
      "display_name": "Python 3"
    },
    "language_info": {
      "name": "python"
    }
  },
  "cells": [
    {
      "cell_type": "markdown",
      "metadata": {
        "id": "LuhsJpv_5RHV"
      },
      "source": [
        "Facebook ve diğer sayfalardan \"beğenme\" sistemini biliyorsunuzdur. İnsanlar blog gönderilerini, resimleri veya diğer öğeleri \"beğenebilir\". Böyle bir öğenin yanında görüntülenmesi gereken metni oluşturmak istiyoruz.\n",
        "likesBir öğeyi beğenen kişilerin adlarını içeren bir diziyi alan işlevi uygulayın . Örneklerde gösterildiği gibi ekran metnini döndürmelidir:\n",
        "likes([]) # must be \"no one likes this\"\n",
        "likes([\"Peter\"]) # must be \"Peter likes this\"\n",
        "likes([\"Jacob\", \"Alex\"]) # must be \"Jacob and Alex like this\"\n",
        "likes([\"Max\", \"John\", \"Mark\"]) # must be \"Max, John and Mark like this\"\n",
        "likes([\"Alex\", \"Jacob\", \"Mark\", \"Max\"]) # must be \"Alex, Jacob and 2 others"
      ]
    },
    {
      "cell_type": "code",
      "metadata": {
        "id": "rIa1CNHO5Mvf"
      },
      "source": [
        "def likes(liste):\n",
        "  if len(liste) == 0:\n",
        "    return \"no one likes this\"\n",
        "  elif len(liste) == 1:\n",
        "    return f\"{liste[0]} likes this\"\n",
        "  elif len(liste) == 2 :\n",
        "    return f\"{liste[0]} and {liste[1]} like this\"\n",
        "  elif len(liste) == 3 :\n",
        "    return f\"{liste[0]}, {liste[1]} and {liste[2]} like this\"\n",
        "  else:\n",
        "    return f\"{liste[0]}, {liste[1]} and {len(liste)-2} others\"\n",
        "\n",
        "likes([\"Alex\", \"Jacob\", \"Mark\", \"Max\", \"harun\"])"
      ],
      "execution_count": null,
      "outputs": []
    }
  ]
}