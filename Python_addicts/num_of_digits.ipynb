{
  "nbformat": 4,
  "nbformat_minor": 0,
  "metadata": {
    "colab": {
      "name": "num_of_digits.ipynb",
      "provenance": [],
      "collapsed_sections": []
    },
    "kernelspec": {
      "name": "python3",
      "display_name": "Python 3"
    },
    "language_info": {
      "name": "python"
    }
  },
  "cells": [
    {
      "cell_type": "markdown",
      "metadata": {
        "id": "igeiA47amUMJ"
      },
      "source": [
        "Imagine you took all the numbers between 0 and n and concatenated them together into a long string. How many digits are there between 0 and n? Write a function that can calculate this.\n",
        "There are 0 digits between 0 and 1, there are 9 digits between 0 and 10 and there are 189 digits between 0 and 100.\n",
        "Examples digits(1) ➞ 0\n",
        "digits(10) ➞ 9\n",
        "digits(100) ➞ 189\n",
        "digits(2020) ➞ 6969\n",
        "Notes The numbers are going to be rather big so creating that string won't be practical."
      ]
    },
    {
      "cell_type": "code",
      "metadata": {
        "id": "XTESmHdWmV9z"
      },
      "source": [
        "def length(number):\n",
        "    result = 0\n",
        "    if number == 0 or number == 1:\n",
        "        result = 0\n",
        "    else:\n",
        "        for i in range(1, number):\n",
        "            index = 1\n",
        "            while i >= 10:\n",
        "                i = i // 10\n",
        "                index += 1\n",
        "            result += index\n",
        "    return result\n",
        "print(length(6574))"
      ],
      "execution_count": null,
      "outputs": []
    }
  ]
}