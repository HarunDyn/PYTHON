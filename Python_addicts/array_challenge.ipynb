{
  "nbformat": 4,
  "nbformat_minor": 0,
  "metadata": {
    "colab": {
      "name": "array_challenge.ipynb",
      "provenance": [],
      "collapsed_sections": []
    },
    "kernelspec": {
      "name": "python3",
      "display_name": "Python 3"
    },
    "language_info": {
      "name": "python"
    }
  },
  "cells": [
    {
      "cell_type": "markdown",
      "metadata": {
        "id": "n9L-LPiEHmVq"
      },
      "source": [
        "Have the function ArrayChallenge(arr) take the array of numbers stored in arr and return the string true if any combination of numbers in the array (excluding the largest number) can be added up to equal the largest number in the array, otherwise return the string false. For example: if arr contains [4, 6, 23, 10, 1, 3] the output should return true because 4 + 6 + 10 + 3 = 23. The array will not be empty, will not contain all the same elements, and may contain negative numbers.\n",
        "Input: [5,7,16,1,2] Output: false Input: [3,5,-1,8,12] Output: true"
      ]
    },
    {
      "cell_type": "code",
      "metadata": {
        "id": "CHgBxxtOHU1Z"
      },
      "source": [
        "import itertools\n",
        "def ArrayChallenge(arr):\n",
        "  tuple_lst = []\n",
        "  mx = max(arr)\n",
        "  lst = arr\n",
        "  lst.remove(max(lst))\n",
        "  for i in range(0, len(lst)+1):\n",
        "    for k in itertools.combinations(lst, i):\n",
        "      tuple_lst.append(k)\n",
        "  for s in tuple_lst:\n",
        "    res = 0\n",
        "    for ss in s:\n",
        "      res += ss\n",
        "    if res == mx:\n",
        "      return True\n",
        "      break\n",
        "  return False\n",
        "\n",
        " \n",
        "ArrayChallenge([5,7,16,1,2,1,34,15])"
      ],
      "execution_count": null,
      "outputs": []
    }
  ]
}