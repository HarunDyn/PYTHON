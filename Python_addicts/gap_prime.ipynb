{
  "nbformat": 4,
  "nbformat_minor": 0,
  "metadata": {
    "colab": {
      "name": "gap_prime.ipynb",
      "provenance": [],
      "collapsed_sections": []
    },
    "kernelspec": {
      "name": "python3",
      "display_name": "Python 3"
    },
    "language_info": {
      "name": "python"
    }
  },
  "cells": [
    {
      "cell_type": "markdown",
      "metadata": {
        "id": "D6NPV57RHTy2"
      },
      "source": [
        "Asal sayılar düzenli aralıklarla yerleştirilmez. Örnek için 2için 3boşluğudur 1. Gönderen 3için 5boşluğudur 2. Gönderen 7için 11öyle 4. 2 ile 50 arasında, aşağıdaki 2 boşluklu asal çiftlere sahibiz: 3-5, 5-7, 11-13, 17-19, 29-31, 41-43\n",
        "n uzunluğunda bir asal boşluk, iki ardışık asal sayı arasındaki n-1 ardışık bileşik sayı dizisidir (bkz: http://mathworld.wolfram.com/PrimeGaps.html ).\n",
        "Parametrelerle bir fonksiyon boşluğu yazacağız:\n",
        "g (integer >= 2) aradığımız boşluğu gösterir\n",
        "m (integer > 2) aramanın başlangıcını verir (m dahil)\n",
        "n (integer >= m) aramanın sonunu verir (n dahil)\n",
        "n 1100000'in ötesine geçmeyecek.\n",
        "Yukarıdaki örnekte , 2 boşluklu 3 ile 50 arasındaki ilk çift olan gap(2, 3, 50)geri dönecektir [3, 5] or (3, 5) or {3, 5}.\n",
        "Bu nedenle, bu işlev , bu sayılar aksi takdirde `nil veya null veya None veya Nothing (veya ... dile bağlı olarak) varsa , sınırlar arasında boşluk bırakılmış iki asal sayının ilk çiftini döndürmelidir .gmn\n",
        "C++'da Lua: böyle bir durumda dönüş {0, 0}. F#'da: dönüş [||]. Kotlin, Dart ve Prolog'da: return []. Pascal'da: TGap (0, 0) yazın.\n",
        "Örnekler:\n",
        "gap(2, 5, 7) --> [5, 7] or (5, 7) or {5, 7}\n",
        "gap(2, 5, 5) --> nil. In C++ {0, 0}. In F# [||]. In Kotlin, Dart and Prolog return []`\n",
        "gap(4, 130, 200) --> [163, 167] or (163, 167) or {163, 167}\n",
        "([193, 197] ayrıca 130 ile 200 arasında 4 boşluklu bir asal sayıdır ancak ilk çift değildir)\n",
        "gap(6,100,110) --> nil or {0, 0} or ...: 100 ile 110 arasında var 101, 103, 107, 109ama 101-1076 boşluk değil çünkü arada var 103ve 103-1096 boşluk değil çünkü arada var 107.\n",
        "Örnek Testlerde daha fazla iade örneği görebilirsiniz.\n",
        "Git için Not\n",
        "Go için: m ve n arasında boşluk olmadığında sıfır dilim beklenir. Örnek: boşluk(11,30000,100000) --> nil"
      ]
    },
    {
      "cell_type": "code",
      "metadata": {
        "id": "echZCtLGP06e"
      },
      "source": [
        "def gap(g,m,n):\n",
        "  m_n_asal = []\n",
        "  k = m\n",
        "  while k < n+1:\n",
        "    for i in range(2,k):\n",
        "      if k % i ==0:\n",
        "        break\n",
        "    else:\n",
        "      m_n_asal.append(k)\n",
        "        \n",
        "    k += 1\n",
        "  \n",
        "  k = 0\n",
        "  while k < len(m_n_asal)-1:\n",
        "    if m_n_asal[k+1] - m_n_asal[k] == g:\n",
        "      return {m_n_asal[k],m_n_asal[k+1]}\n",
        "    k += 1\n",
        "  else:\n",
        "    return \"None\"\n",
        "    \n",
        "\n",
        "\n",
        "gap(4, 130, 200)"
      ],
      "execution_count": null,
      "outputs": []
    }
  ]
}