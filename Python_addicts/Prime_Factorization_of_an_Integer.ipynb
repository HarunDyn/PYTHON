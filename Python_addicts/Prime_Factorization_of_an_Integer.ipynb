{
  "nbformat": 4,
  "nbformat_minor": 0,
  "metadata": {
    "colab": {
      "name": "Prime Factorization of an Integeripynb",
      "provenance": [],
      "collapsed_sections": []
    },
    "kernelspec": {
      "name": "python3",
      "display_name": "Python 3"
    },
    "language_info": {
      "name": "python"
    }
  },
  "cells": [
    {
      "cell_type": "markdown",
      "metadata": {
        "id": "MxOdtImnD9e9"
      },
      "source": [
        "\n",
        "\n",
        "Create a function that returns a list containing the prime factors of whatever integer is passed to it.\n",
        "\n"
      ]
    },
    {
      "cell_type": "code",
      "metadata": {
        "colab": {
          "base_uri": "https://localhost:8080/"
        },
        "id": "TSWmJpa2EApJ",
        "outputId": "1f2ca43e-7cff-41fd-d62c-4852de687b0f"
      },
      "source": [
        "def bölenler(x):    \n",
        "    asal_bölenler = []\n",
        "    for i in range(2, x + 1):\n",
        "        k = 0\n",
        "        while k <= 0:\n",
        "            if x % i == 0:\n",
        "                asal_bölenler.append(i)\n",
        "                x = x / i\n",
        "            else:\n",
        "                k += 1    \n",
        "                \n",
        "    return asal_bölenler\n",
        "print(bölenler(100))"
      ],
      "execution_count": 20,
      "outputs": [
        {
          "output_type": "stream",
          "text": [
            "[2, 2, 5, 5]\n"
          ],
          "name": "stdout"
        }
      ]
    }
  ]
}