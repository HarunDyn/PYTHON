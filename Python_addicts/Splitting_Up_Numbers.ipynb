{
  "nbformat": 4,
  "nbformat_minor": 0,
  "metadata": {
    "colab": {
      "name": "Splitting Up Numbers.ipynb",
      "provenance": [],
      "collapsed_sections": []
    },
    "kernelspec": {
      "name": "python3",
      "display_name": "Python 3"
    },
    "language_info": {
      "name": "python"
    }
  },
  "cells": [
    {
      "cell_type": "markdown",
      "metadata": {
        "id": "IB2nXYah9pdw"
      },
      "source": [
        "Create a function that takes a number num and returns each place value in the number.\n",
        "\n",
        "Examples\n",
        "num_split(39) ➞ [30, 9]\n",
        "\n",
        "num_split(-434) ➞ [-400, -30, -4]\n",
        "\n",
        "num_split(100) ➞ [100, 0, 0]"
      ]
    },
    {
      "cell_type": "code",
      "metadata": {
        "id": "p5tlAKsS5QeM"
      },
      "source": [
        "def split_num(n):\n",
        "  lst = []\n",
        "  num = str(abs(n))\n",
        "  if n <0:\n",
        "    k = 1\n",
        "    for i in num[::-1]:\n",
        "      result = -1*k*int(i)\n",
        "      lst.append(result)\n",
        "      k *= 10\n",
        "  else:\n",
        "    k = 1\n",
        "    for i in num[::-1]:\n",
        "      result = k*int(i)\n",
        "      lst.append(result)\n",
        "      k *= 10\n",
        "  \n",
        "  return lst[::-1]\n",
        "\n",
        "split_num(-400455)\n",
        "\n"
      ],
      "execution_count": null,
      "outputs": []
    },
    {
      "cell_type": "code",
      "metadata": {
        "id": "vsbDyTkh78K1"
      },
      "source": [
        ""
      ],
      "execution_count": null,
      "outputs": []
    }
  ]
}