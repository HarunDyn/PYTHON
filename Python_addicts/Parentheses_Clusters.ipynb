{
  "nbformat": 4,
  "nbformat_minor": 0,
  "metadata": {
    "colab": {
      "name": "Parentheses Clusters.ipynb",
      "provenance": [],
      "collapsed_sections": []
    },
    "kernelspec": {
      "name": "python3",
      "display_name": "Python 3"
    },
    "language_info": {
      "name": "python"
    }
  },
  "cells": [
    {
      "cell_type": "markdown",
      "metadata": {
        "id": "D5ZYoynV_QK9"
      },
      "source": [
        "Write a function that groups a string into parentheses cluster. Each cluster should be balanced.\n",
        "\n",
        "Examples\n",
        "split(\"()()()\") ➞ [\"()\", \"()\", \"()\"]\n",
        "\n",
        "split(\"((()))\") ➞ [\"((()))\"]\n",
        "\n",
        "split(\"((()))(())()()(()())\") ➞ [\"((()))\", \"(())\", \"()\", \"()\", \"(()())\"]\n",
        "\n",
        "split(\"((())())(()(()()))\") ➞ [\"((())())\", \"(()(()()))\"]\n",
        "Notes\n",
        "All input strings will only contain parentheses.\n",
        "Balanced: Every opening parens ( must exist with its matching closing parens ) in the same cluster."
      ]
    },
    {
      "cell_type": "code",
      "metadata": {
        "id": "TSWmJpa2EApJ",
        "colab": {
          "base_uri": "https://localhost:8080/"
        },
        "outputId": "9f55a786-6fed-4413-cad5-198a09365f3b"
      },
      "source": [
        "def prnt_cluster(string):\n",
        "  total_l = 0\n",
        "  total_r = 0\n",
        "  string_1 =\"\"\n",
        "  for i in string:\n",
        "    if i == \"(\":\n",
        "      total_l += 1\n",
        "      string_1 += i\n",
        "    elif i ==\")\":\n",
        "      total_r += 1\n",
        "      string_1 += i\n",
        "      if total_l == total_r:\n",
        "        string_1 += \" \"\n",
        "\n",
        "  print(string_1)\n",
        "  x = string_1.split()\n",
        "\n",
        "  return x\n",
        "\n",
        "prnt_cluster(\"((()))(())()()(()())\")\n",
        "  \n"
      ],
      "execution_count": 20,
      "outputs": [
        {
          "output_type": "stream",
          "text": [
            "((())) (()) () () (()()) \n"
          ],
          "name": "stdout"
        },
        {
          "output_type": "execute_result",
          "data": {
            "text/plain": [
              "['((()))', '(())', '()', '()', '(()())']"
            ]
          },
          "metadata": {
            "tags": []
          },
          "execution_count": 20
        }
      ]
    }
  ]
}