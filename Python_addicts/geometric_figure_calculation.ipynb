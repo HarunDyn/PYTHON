{
  "nbformat": 4,
  "nbformat_minor": 0,
  "metadata": {
    "colab": {
      "name": " geometric figure calculation.ipynb",
      "provenance": [],
      "collapsed_sections": []
    },
    "kernelspec": {
      "name": "python3",
      "display_name": "Python 3"
    },
    "language_info": {
      "name": "python"
    }
  },
  "cells": [
    {
      "cell_type": "markdown",
      "metadata": {
        "id": "_h6wXVSq6GQ6"
      },
      "source": [
        "Let's do a geometric figure calculation. First, ask the user whether they want to find the type of triangle or rectangle. If the user answers \"Rectangle\", ask for 4 sides and try to find out if this rectangle is a square, rectangle, or an ordinary rectangle. If the user answers \"Triangle\", ask for 3 sides and try to find out if this triangle is isosceles, equilateral or an ordinary triangle. If the given sides do not indicate a triangle, write \"Does not indicate a triangle\" on the screen. If you don't know the triangle specification, you can look it up online"
      ]
    },
    {
      "cell_type": "code",
      "metadata": {
        "id": "sG-Tnv5G6RTe"
      },
      "source": [
        "ask_geo_fig = input(\"please enter the geometric figure name, [tetragon or triangle]:  \").strip().lower()\n",
        "\n",
        "if ask_geo_fig == \"triangle\":\n",
        "  # want to 3 side\n",
        "  tri_1 = int(input(\"enter the side length: \"))\n",
        "  tri_2 = int(input(\"enter the side length: \"))\n",
        "  tri_3 = int(input(\"enter the side length: \"))\n",
        "  if tri_3 > tri_1  == tri_2 or tri_2 > tri_1 == tri_3 or tri_1 > tri_3 == tri_2 :\n",
        "    print(f\"this {ask_geo_fig} is isosceles triangle\")\n",
        "  elif tri_3 == tri_1 == tri_2:\n",
        "    print(f\"this {ask_geo_fig} is equilateral triangle\")\n",
        "  elif abs(tri_1 - tri_2)< tri_3 < tri_1 + tri_2 or abs(tri_1 - tri_3)< tri_2 < tri_1 + tri_3 or abs(tri_2 - tri_3)< tri_1 < tri_2 + tri_3 :\n",
        "    print(f\"this  is a triangle\")\n",
        "  else:\n",
        "    print(f\"this {ask_geo_fig} is not a triangle\")\n",
        "elif ask_geo_fig == \"tetragon\":\n",
        "  #want to 4 side\n",
        "  tetra_1 = int(input(\"enter the side length: \"))\n",
        "  tetra_2 = int(input(\"enter the side length: \"))\n",
        "  tetra_3 = int(input(\"enter the side length: \"))\n",
        "  tetra_4 = int(input(\"enter the side length: \"))\n",
        "  if tetra_1 == tetra_2 == tetra_3 == tetra_4:\n",
        "    print(f\"this {ask_geo_fig} is a square\")\n",
        "  elif (tetra_1 == tetra_2 and tetra_3 == tetra_4) or (tetra_1 == tetra_3 and tetra_2 == tetra_4) or (tetra_1 == tetra_4 and tetra_2 == tetra_3):\n",
        "    print(f\"this {ask_geo_fig} is a rectangle\")\n",
        "  else: \n",
        "    print(f\"this {ask_geo_fig} is a tetragon\")"
      ],
      "execution_count": null,
      "outputs": []
    }
  ]
}