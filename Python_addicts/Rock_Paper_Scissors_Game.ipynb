{
  "nbformat": 4,
  "nbformat_minor": 0,
  "metadata": {
    "colab": {
      "name": "Rock-Paper-Scissors_Game.ipynb",
      "provenance": []
    },
    "kernelspec": {
      "name": "python3",
      "display_name": "Python 3"
    },
    "language_info": {
      "name": "python"
    }
  },
  "cells": [
    {
      "cell_type": "markdown",
      "metadata": {
        "id": "EawSFxpt-03g"
      },
      "source": [
        "Task : Make a two-player Rock-Paper-Scissors game. (Hint: Ask for player plays (using input), compare them, print out a message of congratulations to the winner, and ask if the players want to start a new game) Remember the rules: Rock beats scissors Scissors beats paper Paper beats rock"
      ]
    },
    {
      "cell_type": "code",
      "metadata": {
        "id": "7wKjUpcY-3pl"
      },
      "source": [
        "while True:\n",
        "  first_player = input(\"choose from one of the options [Rock-Paper-Scissors] :  \").strip().lower()\n",
        "  second_player = input(\"choose from one of the options [Rock-Paper-Scissors] :  \").strip().lower()\n",
        "\n",
        "  if first_player == \"rock\" and second_player == \"scissors\":\n",
        "    print(\"first_player win\")\n",
        "  elif first_player == \"scissors\" and second_player == \"rock\":\n",
        "    print(\"second_player win\")\n",
        "  elif first_player == \"scissors\" and second_player == \"paper\":\n",
        "    print(\"first_player win\")\n",
        "  elif first_player == \"paper\" and second_player == \"scissors\":\n",
        "    print(\"second_player win\")\n",
        "  elif first_player == \"paper\" and second_player == \"rock\":\n",
        "    print(\"first_player win\")\n",
        "  elif first_player == \"rock\" and second_player == \"paper\":\n",
        "    print(\"second_player win\")\n",
        "  elif first_player == second_player:\n",
        "    print(\"game end in a draw\")\n",
        "  else:\n",
        "    print(\"there are no result\")\n",
        "  play_again = input(\"Do you want to play again(Yes or No): \").strip().lower()\n",
        "  if play_again == \"no\":\n",
        "    break"
      ],
      "execution_count": null,
      "outputs": []
    }
  ]
}